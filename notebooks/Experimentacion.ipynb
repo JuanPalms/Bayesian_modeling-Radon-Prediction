{
 "cells": [
  {
   "cell_type": "markdown",
   "id": "3513bc2e-875e-4af4-a19a-7346d9add9fc",
   "metadata": {},
   "source": [
    "# Experimentacion: Modelos"
   ]
  },
  {
   "cell_type": "markdown",
   "id": "5a7e5875-941a-4588-ab22-09e967e8ecef",
   "metadata": {
    "tags": []
   },
   "source": [
    "En este notebok se experimenta con los distintos modelos propuestos en el proyecto y se exploran modelos adicionales"
   ]
  },
  {
   "cell_type": "markdown",
   "id": "767595eb-ac8d-4a0a-a1c7-47f19b521f1e",
   "metadata": {},
   "source": [
    "## Referencias"
   ]
  },
  {
   "cell_type": "markdown",
   "id": "864bd4c0-b0f7-47fa-a05a-f871fa2da286",
   "metadata": {},
   "source": [
    "1) Clase del profesor alfredo Garbuno\n",
    "2) Documentacion de cmdpystan"
   ]
  },
  {
   "cell_type": "code",
   "execution_count": 1,
   "id": "22fc16af-cbb2-442e-a6d5-fa28c954ac98",
   "metadata": {
    "tags": []
   },
   "outputs": [],
   "source": [
    "# import all libraries used in this notebook\n",
    "import os\n",
    "import numpy as np\n",
    "import pandas as pd\n",
    "from cmdstanpy import CmdStanModel\n",
    "import matplotlib.pyplot as plt\n",
    "import warnings\n",
    "warnings.filterwarnings('ignore')\n",
    "from IPython.core.magic import register_cell_magic\n",
    "import time\n",
    "from outils import load_config, log_run"
   ]
  },
  {
   "cell_type": "code",
   "execution_count": 2,
   "id": "90b76fd7-47b1-41ea-87d5-59cb58f8522b",
   "metadata": {
    "tags": []
   },
   "outputs": [],
   "source": [
    "from statistics import mean"
   ]
  },
  {
   "cell_type": "code",
   "execution_count": 3,
   "id": "70b79430-af1d-4d1d-bd27-e53b1937891e",
   "metadata": {
    "tags": []
   },
   "outputs": [],
   "source": [
    "# Load config file calling load_config function\n",
    "config_f = load_config(\"config.yaml\")\n",
    "LOGFILE = config_f[\"log_file\"]"
   ]
  },
  {
   "cell_type": "markdown",
   "id": "054ab78f-72cd-45b3-8e85-df631f13be6e",
   "metadata": {
    "tags": []
   },
   "source": [
    "### Datos"
   ]
  },
  {
   "cell_type": "code",
   "execution_count": 4,
   "id": "7361b972-47ca-42ba-9495-2a2be007fbb6",
   "metadata": {
    "tags": []
   },
   "outputs": [],
   "source": [
    "radon = pd.read_csv(os.path.join(config_f[\"data_directory\"],\"radon.csv\"))"
   ]
  },
  {
   "cell_type": "code",
   "execution_count": 5,
   "id": "44baa1cd-43ee-4d27-ade7-c1ec6f339ce1",
   "metadata": {
    "tags": []
   },
   "outputs": [
    {
     "data": {
      "text/html": [
       "<div>\n",
       "<style scoped>\n",
       "    .dataframe tbody tr th:only-of-type {\n",
       "        vertical-align: middle;\n",
       "    }\n",
       "\n",
       "    .dataframe tbody tr th {\n",
       "        vertical-align: top;\n",
       "    }\n",
       "\n",
       "    .dataframe thead th {\n",
       "        text-align: right;\n",
       "    }\n",
       "</style>\n",
       "<table border=\"1\" class=\"dataframe\">\n",
       "  <thead>\n",
       "    <tr style=\"text-align: right;\">\n",
       "      <th></th>\n",
       "      <th>state</th>\n",
       "      <th>floor</th>\n",
       "      <th>county</th>\n",
       "      <th>log_radon</th>\n",
       "      <th>log_uranium</th>\n",
       "    </tr>\n",
       "  </thead>\n",
       "  <tbody>\n",
       "    <tr>\n",
       "      <th>0</th>\n",
       "      <td>AZ</td>\n",
       "      <td>1</td>\n",
       "      <td>APACHE</td>\n",
       "      <td>-1.203973</td>\n",
       "      <td>0.817297</td>\n",
       "    </tr>\n",
       "    <tr>\n",
       "      <th>1</th>\n",
       "      <td>AZ</td>\n",
       "      <td>9</td>\n",
       "      <td>APACHE</td>\n",
       "      <td>-0.510826</td>\n",
       "      <td>0.817297</td>\n",
       "    </tr>\n",
       "  </tbody>\n",
       "</table>\n",
       "</div>"
      ],
      "text/plain": [
       "  state  floor  county  log_radon  log_uranium\n",
       "0    AZ      1  APACHE  -1.203973     0.817297\n",
       "1    AZ      9  APACHE  -0.510826     0.817297"
      ]
     },
     "execution_count": 5,
     "metadata": {},
     "output_type": "execute_result"
    }
   ],
   "source": [
    "radon.head(2)"
   ]
  },
  {
   "cell_type": "markdown",
   "id": "d07414c4-a7e6-464d-8cf6-b08562925bbc",
   "metadata": {},
   "source": [
    "Restringimos los datos al estado de Minesota para guardar consistencia con el proyecto"
   ]
  },
  {
   "cell_type": "code",
   "execution_count": 6,
   "id": "fdd9e493-3f1e-4b4c-9237-3dd827e95352",
   "metadata": {
    "tags": []
   },
   "outputs": [],
   "source": [
    "mn_radon = radon[radon['state']=='MN'].reset_index(drop=True)\n",
    "mn_radon.drop(columns=['state'], inplace=True)"
   ]
  },
  {
   "cell_type": "code",
   "execution_count": 7,
   "id": "1ef2a83b-67a3-407c-8002-19bab178503d",
   "metadata": {
    "tags": []
   },
   "outputs": [],
   "source": [
    "mn_radon['county_id'] = pd.factorize(mn_radon['county'])[0]+ 1"
   ]
  },
  {
   "cell_type": "code",
   "execution_count": 8,
   "id": "25a30405-4587-4fdd-9f38-585ed4886615",
   "metadata": {
    "tags": []
   },
   "outputs": [
    {
     "data": {
      "text/html": [
       "<div>\n",
       "<style scoped>\n",
       "    .dataframe tbody tr th:only-of-type {\n",
       "        vertical-align: middle;\n",
       "    }\n",
       "\n",
       "    .dataframe tbody tr th {\n",
       "        vertical-align: top;\n",
       "    }\n",
       "\n",
       "    .dataframe thead th {\n",
       "        text-align: right;\n",
       "    }\n",
       "</style>\n",
       "<table border=\"1\" class=\"dataframe\">\n",
       "  <thead>\n",
       "    <tr style=\"text-align: right;\">\n",
       "      <th></th>\n",
       "      <th>floor</th>\n",
       "      <th>county</th>\n",
       "      <th>log_radon</th>\n",
       "      <th>log_uranium</th>\n",
       "      <th>county_id</th>\n",
       "    </tr>\n",
       "  </thead>\n",
       "  <tbody>\n",
       "    <tr>\n",
       "      <th>0</th>\n",
       "      <td>1</td>\n",
       "      <td>AITKIN</td>\n",
       "      <td>0.788457</td>\n",
       "      <td>-0.689048</td>\n",
       "      <td>1</td>\n",
       "    </tr>\n",
       "    <tr>\n",
       "      <th>1</th>\n",
       "      <td>0</td>\n",
       "      <td>AITKIN</td>\n",
       "      <td>0.788457</td>\n",
       "      <td>-0.689048</td>\n",
       "      <td>1</td>\n",
       "    </tr>\n",
       "    <tr>\n",
       "      <th>2</th>\n",
       "      <td>0</td>\n",
       "      <td>AITKIN</td>\n",
       "      <td>1.064711</td>\n",
       "      <td>-0.689048</td>\n",
       "      <td>1</td>\n",
       "    </tr>\n",
       "    <tr>\n",
       "      <th>3</th>\n",
       "      <td>0</td>\n",
       "      <td>AITKIN</td>\n",
       "      <td>0.000000</td>\n",
       "      <td>-0.689048</td>\n",
       "      <td>1</td>\n",
       "    </tr>\n",
       "    <tr>\n",
       "      <th>4</th>\n",
       "      <td>0</td>\n",
       "      <td>ANOKA</td>\n",
       "      <td>1.131402</td>\n",
       "      <td>-0.847313</td>\n",
       "      <td>2</td>\n",
       "    </tr>\n",
       "    <tr>\n",
       "      <th>...</th>\n",
       "      <td>...</td>\n",
       "      <td>...</td>\n",
       "      <td>...</td>\n",
       "      <td>...</td>\n",
       "      <td>...</td>\n",
       "    </tr>\n",
       "    <tr>\n",
       "      <th>922</th>\n",
       "      <td>0</td>\n",
       "      <td>WRIGHT</td>\n",
       "      <td>1.856298</td>\n",
       "      <td>-0.090024</td>\n",
       "      <td>84</td>\n",
       "    </tr>\n",
       "    <tr>\n",
       "      <th>923</th>\n",
       "      <td>0</td>\n",
       "      <td>WRIGHT</td>\n",
       "      <td>1.504077</td>\n",
       "      <td>-0.090024</td>\n",
       "      <td>84</td>\n",
       "    </tr>\n",
       "    <tr>\n",
       "      <th>924</th>\n",
       "      <td>0</td>\n",
       "      <td>WRIGHT</td>\n",
       "      <td>1.609438</td>\n",
       "      <td>-0.090024</td>\n",
       "      <td>84</td>\n",
       "    </tr>\n",
       "    <tr>\n",
       "      <th>925</th>\n",
       "      <td>0</td>\n",
       "      <td>YELLOW MEDICINE</td>\n",
       "      <td>1.308333</td>\n",
       "      <td>0.355287</td>\n",
       "      <td>85</td>\n",
       "    </tr>\n",
       "    <tr>\n",
       "      <th>926</th>\n",
       "      <td>0</td>\n",
       "      <td>YELLOW MEDICINE</td>\n",
       "      <td>1.064711</td>\n",
       "      <td>0.355287</td>\n",
       "      <td>85</td>\n",
       "    </tr>\n",
       "  </tbody>\n",
       "</table>\n",
       "<p>927 rows × 5 columns</p>\n",
       "</div>"
      ],
      "text/plain": [
       "     floor           county  log_radon  log_uranium  county_id\n",
       "0        1           AITKIN   0.788457    -0.689048          1\n",
       "1        0           AITKIN   0.788457    -0.689048          1\n",
       "2        0           AITKIN   1.064711    -0.689048          1\n",
       "3        0           AITKIN   0.000000    -0.689048          1\n",
       "4        0            ANOKA   1.131402    -0.847313          2\n",
       "..     ...              ...        ...          ...        ...\n",
       "922      0           WRIGHT   1.856298    -0.090024         84\n",
       "923      0           WRIGHT   1.504077    -0.090024         84\n",
       "924      0           WRIGHT   1.609438    -0.090024         84\n",
       "925      0  YELLOW MEDICINE   1.308333     0.355287         85\n",
       "926      0  YELLOW MEDICINE   1.064711     0.355287         85\n",
       "\n",
       "[927 rows x 5 columns]"
      ]
     },
     "execution_count": 8,
     "metadata": {},
     "output_type": "execute_result"
    }
   ],
   "source": [
    "mn_radon"
   ]
  },
  {
   "cell_type": "markdown",
   "id": "7da5a05d-0dcc-45fb-9489-dad1acb7eb14",
   "metadata": {
    "tags": []
   },
   "source": [
    "### Diccionario de datos"
   ]
  },
  {
   "cell_type": "code",
   "execution_count": 9,
   "id": "e043398b-99b1-4f4b-9f6f-c680abd44c71",
   "metadata": {
    "tags": []
   },
   "outputs": [],
   "source": [
    "radon_data = {\"N\": len(mn_radon), \n",
    "              \"x\": mn_radon.floor.astype(float), \n",
    "              \"y\": mn_radon.log_radon,\n",
    "              \"J\":85, \n",
    "              \"county\" : mn_radon.county_id}"
   ]
  },
  {
   "cell_type": "markdown",
   "id": "dc719e74-1413-4579-b7a2-256b689de113",
   "metadata": {},
   "source": [
    "# Replicacion de experimentos sugeridos"
   ]
  },
  {
   "cell_type": "markdown",
   "id": "95430741-fc6b-4bf1-90a9-9bd9715c9537",
   "metadata": {},
   "source": [
    "En esta seccion replicamos los experimentos sugeridos en nuestro proyecto de referencia. Notar que usamos parametros dados por los autores originales del ejercicio, por lo cual las previas podrian ser no informativas y resultar en observaciones no usuales."
   ]
  },
  {
   "cell_type": "markdown",
   "id": "f30d6138-f160-4dea-97d2-2551fd5d6f58",
   "metadata": {},
   "source": [
    "## Modelo 1: Regresion Lineal (no multinivel) coeficientes invariantes por condado"
   ]
  },
  {
   "cell_type": "markdown",
   "id": "542cd671-c3c0-497a-bea3-8d438dc24957",
   "metadata": {},
   "source": [
    "El primer modelo propuesto se denomina \"complete pooling\" esto debido a que se estiman los mismos coeficientes para todos los condados."
   ]
  },
  {
   "cell_type": "markdown",
   "id": "30ec9df0-3fef-4dda-a4da-8214fa9d8f25",
   "metadata": {},
   "source": [
    "### Modelo agrupado"
   ]
  },
  {
   "cell_type": "markdown",
   "id": "e3de7340-bdfa-498b-81a7-8e52eb4df0f7",
   "metadata": {
    "tags": []
   },
   "source": [
    "$ \\large log\\_radon_i  \\sim N( \\alpha + \\beta Piso_i  , \\sigma)$"
   ]
  },
  {
   "cell_type": "markdown",
   "id": "45d60cec-9946-4f48-a3fe-a730ff9e3f34",
   "metadata": {},
   "source": [
    "$\\large \\alpha \\sim N(\\mu_{\\alpha},\\sigma_{\\alpha})$ <br>\n",
    "$\\large \\beta \\sim N(\\mu_{\\beta},\\sigma_{\\beta})$ <br>\n",
    "$\\large \\sigma \\sim N(\\mu_{\\sigma},\\sigma_{\\sigma})$"
   ]
  },
  {
   "cell_type": "markdown",
   "id": "5d58837d-420d-413b-8bb6-4ef77990ccf8",
   "metadata": {},
   "source": [
    "Media de alpha: 1.33"
   ]
  },
  {
   "cell_type": "markdown",
   "id": "56067d03-61ba-4f6d-a3ce-750102634a34",
   "metadata": {},
   "source": [
    "### Hot intake\n",
    "\n",
    "El modelo de intercepto no variable por estado (complete pooling) tiene como principal deficiencia el hecho de que no toma en cuenta las variaciones de que pueden existir entre condados, la cual es la principal motivacion del estudio"
   ]
  },
  {
   "cell_type": "markdown",
   "id": "695747b0-a93f-44bf-9e03-c56646fb18ad",
   "metadata": {},
   "source": [
    "### Definimos el modelo en Stan"
   ]
  },
  {
   "cell_type": "code",
   "execution_count": 10,
   "id": "5d39166b-3968-42c4-957a-2a7a1cc475fd",
   "metadata": {
    "tags": []
   },
   "outputs": [],
   "source": [
    "modelString=\"\"\"\n",
    "    data {\n",
    "        int<lower=1> N;\n",
    "        vector[N] x;\n",
    "        vector[N] y;\n",
    "        }\n",
    "    parameters {\n",
    "        real alpha;\n",
    "        real beta;\n",
    "        real<lower=0> sigma;\n",
    "        }\n",
    "    model {\n",
    "        y ~ normal(alpha + beta * x, sigma);\n",
    "        alpha ~ normal(0, 10);\n",
    "        beta ~ normal(0, 10);\n",
    "        sigma ~ normal(0, 10);\n",
    "        }\n",
    "    generated quantities {\n",
    "        array[N] real y_rep = normal_rng(alpha + beta * x, sigma);\n",
    "        }\n",
    "        \n",
    "\"\"\""
   ]
  },
  {
   "cell_type": "code",
   "execution_count": 11,
   "id": "630d0781-f194-485d-a2a1-0a14b1bd0dc4",
   "metadata": {
    "tags": []
   },
   "outputs": [],
   "source": [
    "# Creo el archivo de Stan\n",
    "modelo_agrupado = os.path.join(config_f[\"models_directory\"],\"modelo_agrupado.stan\")\n",
    "with open(modelo_agrupado, 'w') as f:\n",
    "    f.write(modelString)"
   ]
  },
  {
   "cell_type": "markdown",
   "id": "a784182b-e7ec-4c5b-bf43-7be7554e848f",
   "metadata": {},
   "source": [
    "### Genero las cadenas"
   ]
  },
  {
   "cell_type": "markdown",
   "id": "fe556aad-9fca-4b89-8fe0-aa215ec2ddaa",
   "metadata": {},
   "source": [
    "Esto producira 6 cadenas de 1,000 iteraciones cada una"
   ]
  },
  {
   "cell_type": "code",
   "execution_count": 13,
   "id": "e3868d1c-0d10-4a20-8fac-ec0ed64704c8",
   "metadata": {
    "tags": []
   },
   "outputs": [
    {
     "name": "stderr",
     "output_type": "stream",
     "text": [
      "22:24:37 - cmdstanpy - INFO - CmdStan start processing\n",
      "22:24:37 - cmdstanpy - INFO - Chain [1] start processing\n",
      "22:24:37 - cmdstanpy - INFO - Chain [2] start processing\n",
      "22:24:37 - cmdstanpy - INFO - Chain [3] start processing\n",
      "22:24:37 - cmdstanpy - INFO - Chain [4] start processing\n",
      "22:24:37 - cmdstanpy - INFO - Chain [5] start processing\n",
      "22:24:37 - cmdstanpy - INFO - Chain [6] start processing\n",
      "22:24:43 - cmdstanpy - INFO - Chain [5] done processing\n",
      "22:24:43 - cmdstanpy - INFO - Chain [4] done processing\n",
      "22:24:45 - cmdstanpy - INFO - Chain [2] done processing\n",
      "22:24:46 - cmdstanpy - INFO - Chain [6] done processing\n",
      "22:24:46 - cmdstanpy - INFO - Chain [3] done processing\n",
      "22:24:46 - cmdstanpy - INFO - Chain [1] done processing\n"
     ]
    },
    {
     "data": {
      "text/plain": [
       "<ExecutionResult object at 7f7507cec390, execution_count=None error_before_exec=None error_in_exec=None info=<ExecutionInfo object at 7f7507cec510, raw_cell=\"modelo_agrupado = CmdStanModel(stan_file=os.path.j..\" store_history=False silent=False shell_futures=True cell_id=None> result=None>"
      ]
     },
     "execution_count": 13,
     "metadata": {},
     "output_type": "execute_result"
    }
   ],
   "source": [
    "%%log_run Modelo agrupado (regresion lineal)\n",
    "modelo_agrupado = CmdStanModel(stan_file=os.path.join(config_f[\"models_directory\"], \"modelo_agrupado.stan\"))\n",
    "modelo_agrupado_fit = modelo_agrupado.sample(\n",
    "    data=radon_data, \n",
    "    show_progress=False, \n",
    "    chains=6,\n",
    "    iter_warmup= 1000,\n",
    "    iter_sampling=10000)"
   ]
  },
  {
   "cell_type": "markdown",
   "id": "4c0d5610-753f-42d0-bc10-daa20d4baacc",
   "metadata": {
    "tags": []
   },
   "source": [
    "### Analizando las cadenas"
   ]
  },
  {
   "cell_type": "code",
   "execution_count": 15,
   "id": "516e936f-362f-483d-a461-373d904ae067",
   "metadata": {
    "tags": []
   },
   "outputs": [
    {
     "name": "stdout",
     "output_type": "stream",
     "text": [
      "sample draws shape:  (60000, 3)\n"
     ]
    },
    {
     "data": {
      "text/html": [
       "<div>\n",
       "<style scoped>\n",
       "    .dataframe tbody tr th:only-of-type {\n",
       "        vertical-align: middle;\n",
       "    }\n",
       "\n",
       "    .dataframe tbody tr th {\n",
       "        vertical-align: top;\n",
       "    }\n",
       "\n",
       "    .dataframe thead th {\n",
       "        text-align: right;\n",
       "    }\n",
       "</style>\n",
       "<table border=\"1\" class=\"dataframe\">\n",
       "  <thead>\n",
       "    <tr style=\"text-align: right;\">\n",
       "      <th></th>\n",
       "      <th>alpha</th>\n",
       "      <th>beta</th>\n",
       "      <th>sigma</th>\n",
       "    </tr>\n",
       "  </thead>\n",
       "  <tbody>\n",
       "    <tr>\n",
       "      <th>0</th>\n",
       "      <td>1.26026</td>\n",
       "      <td>-0.517698</td>\n",
       "      <td>0.839185</td>\n",
       "    </tr>\n",
       "    <tr>\n",
       "      <th>1</th>\n",
       "      <td>1.28302</td>\n",
       "      <td>-0.534180</td>\n",
       "      <td>0.825683</td>\n",
       "    </tr>\n",
       "    <tr>\n",
       "      <th>2</th>\n",
       "      <td>1.29139</td>\n",
       "      <td>-0.428177</td>\n",
       "      <td>0.818308</td>\n",
       "    </tr>\n",
       "    <tr>\n",
       "      <th>3</th>\n",
       "      <td>1.29458</td>\n",
       "      <td>-0.607829</td>\n",
       "      <td>0.868602</td>\n",
       "    </tr>\n",
       "    <tr>\n",
       "      <th>4</th>\n",
       "      <td>1.32707</td>\n",
       "      <td>-0.673792</td>\n",
       "      <td>0.839358</td>\n",
       "    </tr>\n",
       "    <tr>\n",
       "      <th>...</th>\n",
       "      <td>...</td>\n",
       "      <td>...</td>\n",
       "      <td>...</td>\n",
       "    </tr>\n",
       "    <tr>\n",
       "      <th>59995</th>\n",
       "      <td>1.35577</td>\n",
       "      <td>-0.608309</td>\n",
       "      <td>0.829686</td>\n",
       "    </tr>\n",
       "    <tr>\n",
       "      <th>59996</th>\n",
       "      <td>1.32997</td>\n",
       "      <td>-0.652155</td>\n",
       "      <td>0.820288</td>\n",
       "    </tr>\n",
       "    <tr>\n",
       "      <th>59997</th>\n",
       "      <td>1.34122</td>\n",
       "      <td>-0.602490</td>\n",
       "      <td>0.840932</td>\n",
       "    </tr>\n",
       "    <tr>\n",
       "      <th>59998</th>\n",
       "      <td>1.31826</td>\n",
       "      <td>-0.614990</td>\n",
       "      <td>0.810389</td>\n",
       "    </tr>\n",
       "    <tr>\n",
       "      <th>59999</th>\n",
       "      <td>1.30507</td>\n",
       "      <td>-0.554929</td>\n",
       "      <td>0.861647</td>\n",
       "    </tr>\n",
       "  </tbody>\n",
       "</table>\n",
       "<p>60000 rows × 3 columns</p>\n",
       "</div>"
      ],
      "text/plain": [
       "         alpha      beta     sigma\n",
       "0      1.26026 -0.517698  0.839185\n",
       "1      1.28302 -0.534180  0.825683\n",
       "2      1.29139 -0.428177  0.818308\n",
       "3      1.29458 -0.607829  0.868602\n",
       "4      1.32707 -0.673792  0.839358\n",
       "...        ...       ...       ...\n",
       "59995  1.35577 -0.608309  0.829686\n",
       "59996  1.32997 -0.652155  0.820288\n",
       "59997  1.34122 -0.602490  0.840932\n",
       "59998  1.31826 -0.614990  0.810389\n",
       "59999  1.30507 -0.554929  0.861647\n",
       "\n",
       "[60000 rows x 3 columns]"
      ]
     },
     "execution_count": 15,
     "metadata": {},
     "output_type": "execute_result"
    }
   ],
   "source": [
    "agrupado_pd = modelo_agrupado_fit.draws_pd(vars=['alpha', 'beta', 'sigma'])\n",
    "print(f'sample draws shape:  {agrupado_pd.shape}')\n",
    "agrupado_pd"
   ]
  },
  {
   "cell_type": "code",
   "execution_count": 16,
   "id": "3df24932-7803-40ba-9b35-ff1ab7640082",
   "metadata": {
    "tags": []
   },
   "outputs": [
    {
     "data": {
      "text/html": [
       "<div>\n",
       "<style scoped>\n",
       "    .dataframe tbody tr th:only-of-type {\n",
       "        vertical-align: middle;\n",
       "    }\n",
       "\n",
       "    .dataframe tbody tr th {\n",
       "        vertical-align: top;\n",
       "    }\n",
       "\n",
       "    .dataframe thead th {\n",
       "        text-align: right;\n",
       "    }\n",
       "</style>\n",
       "<table border=\"1\" class=\"dataframe\">\n",
       "  <thead>\n",
       "    <tr style=\"text-align: right;\">\n",
       "      <th></th>\n",
       "      <th>Mean</th>\n",
       "      <th>MCSE</th>\n",
       "      <th>StdDev</th>\n",
       "      <th>5%</th>\n",
       "      <th>50%</th>\n",
       "      <th>95%</th>\n",
       "      <th>N_Eff</th>\n",
       "      <th>N_Eff/s</th>\n",
       "      <th>R_hat</th>\n",
       "    </tr>\n",
       "  </thead>\n",
       "  <tbody>\n",
       "    <tr>\n",
       "      <th>lp__</th>\n",
       "      <td>-295.12</td>\n",
       "      <td>0.01</td>\n",
       "      <td>1.24</td>\n",
       "      <td>-297.54</td>\n",
       "      <td>-294.80</td>\n",
       "      <td>-293.80</td>\n",
       "      <td>29215.0</td>\n",
       "      <td>615.09</td>\n",
       "      <td>1.0</td>\n",
       "    </tr>\n",
       "    <tr>\n",
       "      <th>alpha</th>\n",
       "      <td>1.33</td>\n",
       "      <td>0.00</td>\n",
       "      <td>0.03</td>\n",
       "      <td>1.28</td>\n",
       "      <td>1.33</td>\n",
       "      <td>1.38</td>\n",
       "      <td>43058.3</td>\n",
       "      <td>906.55</td>\n",
       "      <td>1.0</td>\n",
       "    </tr>\n",
       "    <tr>\n",
       "      <th>beta</th>\n",
       "      <td>-0.61</td>\n",
       "      <td>0.00</td>\n",
       "      <td>0.07</td>\n",
       "      <td>-0.73</td>\n",
       "      <td>-0.61</td>\n",
       "      <td>-0.49</td>\n",
       "      <td>42207.3</td>\n",
       "      <td>888.63</td>\n",
       "      <td>1.0</td>\n",
       "    </tr>\n",
       "    <tr>\n",
       "      <th>sigma</th>\n",
       "      <td>0.83</td>\n",
       "      <td>0.00</td>\n",
       "      <td>0.02</td>\n",
       "      <td>0.80</td>\n",
       "      <td>0.83</td>\n",
       "      <td>0.87</td>\n",
       "      <td>48197.8</td>\n",
       "      <td>1014.75</td>\n",
       "      <td>1.0</td>\n",
       "    </tr>\n",
       "    <tr>\n",
       "      <th>y_rep[1]</th>\n",
       "      <td>0.73</td>\n",
       "      <td>0.00</td>\n",
       "      <td>0.84</td>\n",
       "      <td>-0.65</td>\n",
       "      <td>0.72</td>\n",
       "      <td>2.11</td>\n",
       "      <td>59469.7</td>\n",
       "      <td>1252.07</td>\n",
       "      <td>1.0</td>\n",
       "    </tr>\n",
       "    <tr>\n",
       "      <th>...</th>\n",
       "      <td>...</td>\n",
       "      <td>...</td>\n",
       "      <td>...</td>\n",
       "      <td>...</td>\n",
       "      <td>...</td>\n",
       "      <td>...</td>\n",
       "      <td>...</td>\n",
       "      <td>...</td>\n",
       "      <td>...</td>\n",
       "    </tr>\n",
       "    <tr>\n",
       "      <th>y_rep[923]</th>\n",
       "      <td>1.33</td>\n",
       "      <td>0.00</td>\n",
       "      <td>0.84</td>\n",
       "      <td>-0.05</td>\n",
       "      <td>1.33</td>\n",
       "      <td>2.71</td>\n",
       "      <td>60417.5</td>\n",
       "      <td>1272.03</td>\n",
       "      <td>1.0</td>\n",
       "    </tr>\n",
       "    <tr>\n",
       "      <th>y_rep[924]</th>\n",
       "      <td>1.33</td>\n",
       "      <td>0.00</td>\n",
       "      <td>0.84</td>\n",
       "      <td>-0.04</td>\n",
       "      <td>1.33</td>\n",
       "      <td>2.71</td>\n",
       "      <td>60125.3</td>\n",
       "      <td>1265.88</td>\n",
       "      <td>1.0</td>\n",
       "    </tr>\n",
       "    <tr>\n",
       "      <th>y_rep[925]</th>\n",
       "      <td>1.33</td>\n",
       "      <td>0.00</td>\n",
       "      <td>0.84</td>\n",
       "      <td>-0.05</td>\n",
       "      <td>1.32</td>\n",
       "      <td>2.72</td>\n",
       "      <td>59302.8</td>\n",
       "      <td>1248.56</td>\n",
       "      <td>1.0</td>\n",
       "    </tr>\n",
       "    <tr>\n",
       "      <th>y_rep[926]</th>\n",
       "      <td>1.32</td>\n",
       "      <td>0.00</td>\n",
       "      <td>0.84</td>\n",
       "      <td>-0.04</td>\n",
       "      <td>1.32</td>\n",
       "      <td>2.71</td>\n",
       "      <td>57773.2</td>\n",
       "      <td>1216.36</td>\n",
       "      <td>1.0</td>\n",
       "    </tr>\n",
       "    <tr>\n",
       "      <th>y_rep[927]</th>\n",
       "      <td>1.33</td>\n",
       "      <td>0.00</td>\n",
       "      <td>0.83</td>\n",
       "      <td>-0.03</td>\n",
       "      <td>1.33</td>\n",
       "      <td>2.70</td>\n",
       "      <td>59786.8</td>\n",
       "      <td>1258.75</td>\n",
       "      <td>1.0</td>\n",
       "    </tr>\n",
       "  </tbody>\n",
       "</table>\n",
       "<p>931 rows × 9 columns</p>\n",
       "</div>"
      ],
      "text/plain": [
       "              Mean  MCSE  StdDev      5%     50%     95%    N_Eff  N_Eff/s   \n",
       "lp__       -295.12  0.01    1.24 -297.54 -294.80 -293.80  29215.0   615.09  \\\n",
       "alpha         1.33  0.00    0.03    1.28    1.33    1.38  43058.3   906.55   \n",
       "beta         -0.61  0.00    0.07   -0.73   -0.61   -0.49  42207.3   888.63   \n",
       "sigma         0.83  0.00    0.02    0.80    0.83    0.87  48197.8  1014.75   \n",
       "y_rep[1]      0.73  0.00    0.84   -0.65    0.72    2.11  59469.7  1252.07   \n",
       "...            ...   ...     ...     ...     ...     ...      ...      ...   \n",
       "y_rep[923]    1.33  0.00    0.84   -0.05    1.33    2.71  60417.5  1272.03   \n",
       "y_rep[924]    1.33  0.00    0.84   -0.04    1.33    2.71  60125.3  1265.88   \n",
       "y_rep[925]    1.33  0.00    0.84   -0.05    1.32    2.72  59302.8  1248.56   \n",
       "y_rep[926]    1.32  0.00    0.84   -0.04    1.32    2.71  57773.2  1216.36   \n",
       "y_rep[927]    1.33  0.00    0.83   -0.03    1.33    2.70  59786.8  1258.75   \n",
       "\n",
       "            R_hat  \n",
       "lp__          1.0  \n",
       "alpha         1.0  \n",
       "beta          1.0  \n",
       "sigma         1.0  \n",
       "y_rep[1]      1.0  \n",
       "...           ...  \n",
       "y_rep[923]    1.0  \n",
       "y_rep[924]    1.0  \n",
       "y_rep[925]    1.0  \n",
       "y_rep[926]    1.0  \n",
       "y_rep[927]    1.0  \n",
       "\n",
       "[931 rows x 9 columns]"
      ]
     },
     "execution_count": 16,
     "metadata": {},
     "output_type": "execute_result"
    }
   ],
   "source": [
    "modelo_agrupado_fit.summary().round(2)"
   ]
  },
  {
   "cell_type": "markdown",
   "id": "995b02c8-0681-427b-883a-b1b8c64e6f1f",
   "metadata": {
    "tags": []
   },
   "source": [
    "## Modelo 2: Regresion Lineal (no multinivel) intercepto variantes por condado"
   ]
  },
  {
   "cell_type": "markdown",
   "id": "820618fd-4438-4917-b66d-5fe2cacb0e9e",
   "metadata": {},
   "source": [
    "El segundo modelo se denomina no-pooling debido a que no agregan en un mismo coeficiente los efectos de los condados, se estiman por separado y se genera un coeficiente de intercepto para cada condado"
   ]
  },
  {
   "cell_type": "markdown",
   "id": "d1980081-978c-4e64-aa02-46251b7719ce",
   "metadata": {},
   "source": [
    "### Modelo no agrupado"
   ]
  },
  {
   "cell_type": "markdown",
   "id": "9770ec1e-cd04-4807-b2fd-1195b4602422",
   "metadata": {
    "tags": []
   },
   "source": [
    "$ \\large log\\_radon_i  \\sim N( \\alpha_{j[i]} + \\beta Piso_i  , \\sigma)$"
   ]
  },
  {
   "cell_type": "markdown",
   "id": "8fa7db8a-a5f2-4801-8635-5f37f2dfd85c",
   "metadata": {},
   "source": [
    "$\\large \\alpha_j \\sim N(\\mu_{\\alpha},\\sigma_{\\alpha})$ <br>\n",
    "$\\large \\beta \\sim N(\\mu_{\\beta},\\sigma_{\\beta})$ <br>\n",
    "$\\large \\sigma \\sim N(\\mu_{\\sigma},\\sigma_{\\sigma})$"
   ]
  },
  {
   "cell_type": "markdown",
   "id": "83d30f87-0377-4856-9107-84466b936a7b",
   "metadata": {},
   "source": [
    "$\\large j \\in \\{1,2....85\\}$"
   ]
  },
  {
   "cell_type": "markdown",
   "id": "5c0e2c50-6da8-4d6c-abe5-423e958e03f4",
   "metadata": {},
   "source": [
    "Media de alpha: 1.50"
   ]
  },
  {
   "cell_type": "markdown",
   "id": "8747fd82-a621-405c-a620-a02767087c93",
   "metadata": {},
   "source": [
    "Sd de alpha: 0.46"
   ]
  },
  {
   "cell_type": "markdown",
   "id": "74f9e8b1-ed46-49a7-9e69-016a1512f94c",
   "metadata": {},
   "source": [
    "### Hot intake"
   ]
  },
  {
   "cell_type": "markdown",
   "id": "5b3d45a4-0c3c-4b50-a82b-7bc30be77045",
   "metadata": {},
   "source": [
    "El modelo con intercepto variable por condado tiene el problema de que cuando se encuentra con condados con pocas observaciones de casas, se hace un sobreajuste a esa cantidad baja de datos lo cual vuelve el parametro estimado poco confiable"
   ]
  },
  {
   "cell_type": "code",
   "execution_count": 17,
   "id": "b66fba83-e34a-4e5b-a650-556dc3f05520",
   "metadata": {
    "tags": []
   },
   "outputs": [],
   "source": [
    "modelString=\"\"\"\n",
    "    data {\n",
    "        int<lower=1> N;  // observations\n",
    "        int<lower=1> J;  // counties\n",
    "        array[N] int<lower=1, upper=J> county;\n",
    "        vector[N] x;     // floor\n",
    "        vector[N] y;     // radon\n",
    "        }\n",
    "    parameters {\n",
    "        vector[J] alpha;\n",
    "        real beta;\n",
    "        real<lower=0> sigma;\n",
    "        }\n",
    "    model {\n",
    "        y ~ normal(alpha[county] + beta * x, sigma);  \n",
    "        alpha ~ normal(0, 10);\n",
    "        beta ~ normal(0, 10);\n",
    "        sigma ~ normal(0, 10);\n",
    "        }\n",
    "    generated quantities {\n",
    "        array[N] real y_rep = normal_rng(alpha[county] + beta * x, sigma);\n",
    "        }\n",
    "\n",
    "\"\"\""
   ]
  },
  {
   "cell_type": "code",
   "execution_count": 18,
   "id": "b7ada30d-e098-4b0f-bfa5-26fc1d3ce16d",
   "metadata": {
    "tags": []
   },
   "outputs": [],
   "source": [
    "# Creo el archivo de Stan\n",
    "modelo_no_agrupado = os.path.join(config_f[\"models_directory\"],\"modelo_no_agrupado.stan\")\n",
    "with open(modelo_no_agrupado, 'w') as f:\n",
    "    f.write(modelString)"
   ]
  },
  {
   "cell_type": "code",
   "execution_count": 19,
   "id": "7608b146-5709-4e3e-85b6-2944ac599a68",
   "metadata": {
    "tags": []
   },
   "outputs": [
    {
     "name": "stderr",
     "output_type": "stream",
     "text": [
      "22:36:53 - cmdstanpy - INFO - compiling stan file /home/juanpalms/Desktop/MCD/Bayesiana/PROYECTO/modelacion-bayesiana-proyecto-final-bayes-radioactivo/modelos/modelo_no_agrupado.stan to exe file /home/juanpalms/Desktop/MCD/Bayesiana/PROYECTO/modelacion-bayesiana-proyecto-final-bayes-radioactivo/modelos/modelo_no_agrupado\n",
      "22:37:06 - cmdstanpy - INFO - compiled model executable: /home/juanpalms/Desktop/MCD/Bayesiana/PROYECTO/modelacion-bayesiana-proyecto-final-bayes-radioactivo/modelos/modelo_no_agrupado\n",
      "22:37:06 - cmdstanpy - INFO - CmdStan start processing\n",
      "22:37:06 - cmdstanpy - INFO - Chain [1] start processing\n",
      "22:37:06 - cmdstanpy - INFO - Chain [2] start processing\n",
      "22:37:06 - cmdstanpy - INFO - Chain [3] start processing\n",
      "22:37:06 - cmdstanpy - INFO - Chain [4] start processing\n",
      "22:37:06 - cmdstanpy - INFO - Chain [5] start processing\n",
      "22:37:06 - cmdstanpy - INFO - Chain [6] start processing\n",
      "22:37:14 - cmdstanpy - INFO - Chain [5] done processing\n",
      "22:37:14 - cmdstanpy - INFO - Chain [2] done processing\n",
      "22:37:17 - cmdstanpy - INFO - Chain [3] done processing\n",
      "22:37:18 - cmdstanpy - INFO - Chain [1] done processing\n",
      "22:37:18 - cmdstanpy - INFO - Chain [4] done processing\n",
      "22:37:19 - cmdstanpy - INFO - Chain [6] done processing\n",
      "22:37:19 - cmdstanpy - WARNING - Non-fatal error during sampling:\n",
      "Exception: normal_lpdf: Scale parameter is 0, but must be positive! (in '/home/juanpalms/Desktop/MCD/Bayesiana/PROYECTO/modelacion-bayesiana-proyecto-final-bayes-radioactivo/modelos/modelo_no_agrupado.stan', line 15, column 8 to column 52)\n",
      "Consider re-running with show_console=True if the above output is unclear!\n"
     ]
    },
    {
     "data": {
      "text/plain": [
       "<ExecutionResult object at 7f7505f00d50, execution_count=None error_before_exec=None error_in_exec=None info=<ExecutionInfo object at 7f7505f00610, raw_cell=\"modelo_no_agrupado = CmdStanModel(stan_file=os.pat..\" store_history=False silent=False shell_futures=True cell_id=None> result=None>"
      ]
     },
     "execution_count": 19,
     "metadata": {},
     "output_type": "execute_result"
    }
   ],
   "source": [
    "%%log_run Modelo no agrupado (intercepto por condado)\n",
    "modelo_no_agrupado = CmdStanModel(stan_file=os.path.join(config_f[\"models_directory\"], \"modelo_no_agrupado.stan\"))\n",
    "modelo_no_agrupado_fit = modelo_no_agrupado.sample(\n",
    "    data=radon_data, \n",
    "    show_progress=False, \n",
    "    chains=6,\n",
    "    iter_warmup= 1000,\n",
    "    iter_sampling=10000)"
   ]
  },
  {
   "cell_type": "markdown",
   "id": "7fbf5be2-47fd-4ab6-a892-0c8655aa6cc2",
   "metadata": {},
   "source": [
    "### Analizando las cadenas"
   ]
  },
  {
   "cell_type": "code",
   "execution_count": 20,
   "id": "57001a71-65b2-4bcf-ae07-1f0724dff512",
   "metadata": {
    "tags": []
   },
   "outputs": [
    {
     "name": "stdout",
     "output_type": "stream",
     "text": [
      "sample draws shape:  (60000, 87)\n"
     ]
    },
    {
     "data": {
      "text/html": [
       "<div>\n",
       "<style scoped>\n",
       "    .dataframe tbody tr th:only-of-type {\n",
       "        vertical-align: middle;\n",
       "    }\n",
       "\n",
       "    .dataframe tbody tr th {\n",
       "        vertical-align: top;\n",
       "    }\n",
       "\n",
       "    .dataframe thead th {\n",
       "        text-align: right;\n",
       "    }\n",
       "</style>\n",
       "<table border=\"1\" class=\"dataframe\">\n",
       "  <thead>\n",
       "    <tr style=\"text-align: right;\">\n",
       "      <th></th>\n",
       "      <th>alpha[1]</th>\n",
       "      <th>alpha[2]</th>\n",
       "      <th>alpha[3]</th>\n",
       "      <th>alpha[4]</th>\n",
       "      <th>alpha[5]</th>\n",
       "      <th>alpha[6]</th>\n",
       "      <th>alpha[7]</th>\n",
       "      <th>alpha[8]</th>\n",
       "      <th>alpha[9]</th>\n",
       "      <th>alpha[10]</th>\n",
       "      <th>...</th>\n",
       "      <th>alpha[78]</th>\n",
       "      <th>alpha[79]</th>\n",
       "      <th>alpha[80]</th>\n",
       "      <th>alpha[81]</th>\n",
       "      <th>alpha[82]</th>\n",
       "      <th>alpha[83]</th>\n",
       "      <th>alpha[84]</th>\n",
       "      <th>alpha[85]</th>\n",
       "      <th>beta</th>\n",
       "      <th>sigma</th>\n",
       "    </tr>\n",
       "  </thead>\n",
       "  <tbody>\n",
       "    <tr>\n",
       "      <th>0</th>\n",
       "      <td>1.234910</td>\n",
       "      <td>0.821204</td>\n",
       "      <td>1.71428</td>\n",
       "      <td>1.34633</td>\n",
       "      <td>0.945321</td>\n",
       "      <td>1.01908</td>\n",
       "      <td>2.17994</td>\n",
       "      <td>2.979810</td>\n",
       "      <td>0.934876</td>\n",
       "      <td>1.45177</td>\n",
       "      <td>...</td>\n",
       "      <td>1.676570</td>\n",
       "      <td>0.263096</td>\n",
       "      <td>1.21551</td>\n",
       "      <td>3.49169</td>\n",
       "      <td>1.56604</td>\n",
       "      <td>1.49645</td>\n",
       "      <td>2.28122</td>\n",
       "      <td>0.928500</td>\n",
       "      <td>-0.552123</td>\n",
       "      <td>0.752007</td>\n",
       "    </tr>\n",
       "    <tr>\n",
       "      <th>1</th>\n",
       "      <td>1.305110</td>\n",
       "      <td>0.901274</td>\n",
       "      <td>2.32929</td>\n",
       "      <td>1.57724</td>\n",
       "      <td>2.203810</td>\n",
       "      <td>2.27955</td>\n",
       "      <td>2.02432</td>\n",
       "      <td>0.868734</td>\n",
       "      <td>0.917167</td>\n",
       "      <td>1.54948</td>\n",
       "      <td>...</td>\n",
       "      <td>0.946364</td>\n",
       "      <td>0.951878</td>\n",
       "      <td>1.28535</td>\n",
       "      <td>2.62326</td>\n",
       "      <td>3.34635</td>\n",
       "      <td>1.62007</td>\n",
       "      <td>1.15405</td>\n",
       "      <td>1.721150</td>\n",
       "      <td>-0.839822</td>\n",
       "      <td>0.803419</td>\n",
       "    </tr>\n",
       "    <tr>\n",
       "      <th>2</th>\n",
       "      <td>0.432238</td>\n",
       "      <td>0.899135</td>\n",
       "      <td>0.95534</td>\n",
       "      <td>1.66418</td>\n",
       "      <td>1.071570</td>\n",
       "      <td>1.13331</td>\n",
       "      <td>2.23239</td>\n",
       "      <td>2.561430</td>\n",
       "      <td>1.386400</td>\n",
       "      <td>1.62642</td>\n",
       "      <td>...</td>\n",
       "      <td>1.759830</td>\n",
       "      <td>0.280802</td>\n",
       "      <td>1.29419</td>\n",
       "      <td>2.83199</td>\n",
       "      <td>2.18772</td>\n",
       "      <td>1.81107</td>\n",
       "      <td>1.94520</td>\n",
       "      <td>0.882498</td>\n",
       "      <td>-0.681609</td>\n",
       "      <td>0.737269</td>\n",
       "    </tr>\n",
       "  </tbody>\n",
       "</table>\n",
       "<p>3 rows × 87 columns</p>\n",
       "</div>"
      ],
      "text/plain": [
       "   alpha[1]  alpha[2]  alpha[3]  alpha[4]  alpha[5]  alpha[6]  alpha[7]   \n",
       "0  1.234910  0.821204   1.71428   1.34633  0.945321   1.01908   2.17994  \\\n",
       "1  1.305110  0.901274   2.32929   1.57724  2.203810   2.27955   2.02432   \n",
       "2  0.432238  0.899135   0.95534   1.66418  1.071570   1.13331   2.23239   \n",
       "\n",
       "   alpha[8]  alpha[9]  alpha[10]  ...  alpha[78]  alpha[79]  alpha[80]   \n",
       "0  2.979810  0.934876    1.45177  ...   1.676570   0.263096    1.21551  \\\n",
       "1  0.868734  0.917167    1.54948  ...   0.946364   0.951878    1.28535   \n",
       "2  2.561430  1.386400    1.62642  ...   1.759830   0.280802    1.29419   \n",
       "\n",
       "   alpha[81]  alpha[82]  alpha[83]  alpha[84]  alpha[85]      beta     sigma  \n",
       "0    3.49169    1.56604    1.49645    2.28122   0.928500 -0.552123  0.752007  \n",
       "1    2.62326    3.34635    1.62007    1.15405   1.721150 -0.839822  0.803419  \n",
       "2    2.83199    2.18772    1.81107    1.94520   0.882498 -0.681609  0.737269  \n",
       "\n",
       "[3 rows x 87 columns]"
      ]
     },
     "execution_count": 20,
     "metadata": {},
     "output_type": "execute_result"
    }
   ],
   "source": [
    "modelo_no_agrupado_pd = modelo_no_agrupado_fit.draws_pd(vars=['alpha', 'beta', 'sigma'])\n",
    "print(f'sample draws shape:  {modelo_no_agrupado_pd.shape}')\n",
    "modelo_no_agrupado_pd.head(3)"
   ]
  },
  {
   "cell_type": "code",
   "execution_count": 21,
   "id": "8a42e93b-32e2-41a8-ac6f-0dc8e55f1fd2",
   "metadata": {
    "tags": []
   },
   "outputs": [],
   "source": [
    "summary=modelo_no_agrupado_fit.summary().round(2)"
   ]
  },
  {
   "cell_type": "code",
   "execution_count": 27,
   "id": "e00df5e8-c71f-409b-9454-73a807bddce4",
   "metadata": {
    "tags": []
   },
   "outputs": [
    {
     "data": {
      "text/plain": [
       "85"
      ]
     },
     "execution_count": 27,
     "metadata": {},
     "output_type": "execute_result"
    }
   ],
   "source": [
    "(summary[1:86][\"R_hat\"]>=1).count()"
   ]
  },
  {
   "cell_type": "code",
   "execution_count": 31,
   "id": "314c658c-96e4-4fa9-8d3a-a4b2b6fec5d6",
   "metadata": {
    "tags": []
   },
   "outputs": [
    {
     "data": {
      "text/plain": [
       "72189.1"
      ]
     },
     "execution_count": 31,
     "metadata": {},
     "output_type": "execute_result"
    }
   ],
   "source": [
    "summary[1:86][\"N_Eff\"].min()"
   ]
  },
  {
   "cell_type": "markdown",
   "id": "c4d3a376-411d-4490-b0e3-4e4d8963dbc1",
   "metadata": {},
   "source": [
    "## Modelo 3: modelo jerarquico intercepto variantes por condado (partial pooling)"
   ]
  },
  {
   "cell_type": "markdown",
   "id": "ee07fc2c-2e1c-4562-8860-2a2dd105c343",
   "metadata": {},
   "source": [
    "En este modelo se toma en cuenta la jerarquia de los condados, entonces se asume que los condados vienen de una distribucion comun de condados."
   ]
  },
  {
   "cell_type": "markdown",
   "id": "48288225-6b92-4ea4-9c9d-084781983225",
   "metadata": {},
   "source": [
    "El modelo jerarquico es una extension del modelo no-pooling (con interceptos variantes por condado), hay un intercepto unico para los condados que viene de una distribucion comun."
   ]
  },
  {
   "cell_type": "markdown",
   "id": "8194d06b-3f8c-43c0-b0a2-074abcb0a391",
   "metadata": {
    "tags": []
   },
   "source": [
    "### Modelo parcialmente agrupado"
   ]
  },
  {
   "cell_type": "markdown",
   "id": "7357c71d-9e6a-401f-b95a-79b05b464f3b",
   "metadata": {},
   "source": [
    "$ \\large log\\_radon_i  \\sim N( \\alpha_{j[i]} + \\beta Piso_i  , \\sigma)$ <br>"
   ]
  },
  {
   "cell_type": "markdown",
   "id": "e9c2cdf4-c399-4b1b-93fc-3084cdbcadab",
   "metadata": {},
   "source": [
    "$\\large \\alpha_j \\sim N(\\mu_{\\alpha},\\sigma_{\\alpha})$ <br>\n",
    "$\\large \\mu_\\alpha \\sim N(\\mu,\\sigma)$ <br>\n",
    "$\\large \\sigma_\\alpha \\sim N(\\mu,\\sigma)$ <br>\n",
    "$\\large \\beta \\sim N(\\mu_{\\beta},\\sigma_{\\beta})$ <br>\n",
    "$\\large \\sigma \\sim N(\\mu_{\\sigma},\\sigma_{\\sigma})$ <br>\n",
    "\n",
    "$\\large j \\in \\{1,2....85\\}$"
   ]
  },
  {
   "cell_type": "markdown",
   "id": "06a5b227-ab51-461e-94c5-cc273590499b",
   "metadata": {},
   "source": [
    "Media de alpha: 1.47"
   ]
  },
  {
   "cell_type": "markdown",
   "id": "b42c23e0-35c6-47c8-8e83-4f87a0b02a67",
   "metadata": {},
   "source": [
    "Sd de alpha: 0.37"
   ]
  },
  {
   "cell_type": "code",
   "execution_count": 33,
   "id": "b11a40d6-3444-4f9c-9ef1-3ba92df6a824",
   "metadata": {
    "tags": []
   },
   "outputs": [],
   "source": [
    "modelString=\"\"\"\n",
    "    data {\n",
    "        int<lower=1> N;  // observations\n",
    "        int<lower=1> J;  // counties\n",
    "        array[N] int<lower=1, upper=J> county;\n",
    "        vector[N] x;\n",
    "        vector[N] y;\n",
    "        }\n",
    "   parameters {\n",
    "       real mu_alpha;\n",
    "       real<lower=0> sigma_alpha;\n",
    "       vector<offset=mu_alpha, multiplier=sigma_alpha>[J] alpha;  // non-centered parameterization\n",
    "       real beta;\n",
    "       real<lower=0> sigma;\n",
    "       }\n",
    "    model {\n",
    "        y ~ normal(alpha[county] + beta * x, sigma);  \n",
    "        alpha ~ normal(mu_alpha, sigma_alpha); // partial-pooling\n",
    "        beta ~ normal(0, 10);\n",
    "        sigma ~ normal(0, 10);\n",
    "        mu_alpha ~ normal(0, 10);\n",
    "        sigma_alpha ~ normal(0, 10);\n",
    "        }\n",
    "    generated quantities {\n",
    "        array[N] real y_rep = normal_rng(alpha[county] + beta * x, sigma);\n",
    "        }\n",
    "\n",
    "\"\"\""
   ]
  },
  {
   "cell_type": "code",
   "execution_count": 34,
   "id": "ef7e31d2-ae0c-4075-b7ad-8310c2c2364d",
   "metadata": {
    "tags": []
   },
   "outputs": [],
   "source": [
    "# Creo el archivo de Stan\n",
    "model_parcialmente_agrupado = os.path.join(config_f[\"models_directory\"],\"model_parcialmente_agrupado.stan\")\n",
    "with open(model_parcialmente_agrupado, 'w') as f:\n",
    "    f.write(modelString)"
   ]
  },
  {
   "cell_type": "code",
   "execution_count": 35,
   "id": "22308d18-6127-45f3-b869-355d8cbf4826",
   "metadata": {
    "tags": []
   },
   "outputs": [
    {
     "name": "stderr",
     "output_type": "stream",
     "text": [
      "22:52:02 - cmdstanpy - INFO - compiling stan file /home/juanpalms/Desktop/MCD/Bayesiana/PROYECTO/modelacion-bayesiana-proyecto-final-bayes-radioactivo/modelos/model_parcialmente_agrupado.stan to exe file /home/juanpalms/Desktop/MCD/Bayesiana/PROYECTO/modelacion-bayesiana-proyecto-final-bayes-radioactivo/modelos/model_parcialmente_agrupado\n",
      "22:52:16 - cmdstanpy - INFO - compiled model executable: /home/juanpalms/Desktop/MCD/Bayesiana/PROYECTO/modelacion-bayesiana-proyecto-final-bayes-radioactivo/modelos/model_parcialmente_agrupado\n",
      "22:52:16 - cmdstanpy - INFO - CmdStan start processing\n",
      "22:52:16 - cmdstanpy - INFO - Chain [1] start processing\n",
      "22:52:16 - cmdstanpy - INFO - Chain [2] start processing\n",
      "22:52:16 - cmdstanpy - INFO - Chain [3] start processing\n",
      "22:52:16 - cmdstanpy - INFO - Chain [4] start processing\n",
      "22:52:16 - cmdstanpy - INFO - Chain [5] start processing\n",
      "22:52:16 - cmdstanpy - INFO - Chain [6] start processing\n",
      "22:53:01 - cmdstanpy - INFO - Chain [6] done processing\n",
      "22:53:01 - cmdstanpy - INFO - Chain [4] done processing\n",
      "22:53:01 - cmdstanpy - INFO - Chain [2] done processing\n",
      "22:53:03 - cmdstanpy - INFO - Chain [3] done processing\n",
      "22:53:03 - cmdstanpy - INFO - Chain [5] done processing\n",
      "22:53:03 - cmdstanpy - INFO - Chain [1] done processing\n",
      "22:53:03 - cmdstanpy - WARNING - Non-fatal error during sampling:\n",
      "Exception: offset_multiplier_constrain: multiplier is 0, but must be positive finite! (in '/home/juanpalms/Desktop/MCD/Bayesiana/PROYECTO/modelacion-bayesiana-proyecto-final-bayes-radioactivo/modelos/model_parcialmente_agrupado.stan', line 12, column 7 to column 64)\n",
      "Exception: offset_multiplier_constrain: multiplier is 0, but must be positive finite! (in '/home/juanpalms/Desktop/MCD/Bayesiana/PROYECTO/modelacion-bayesiana-proyecto-final-bayes-radioactivo/modelos/model_parcialmente_agrupado.stan', line 12, column 7 to column 64)\n",
      "Exception: offset_multiplier_constrain: multiplier is 0, but must be positive finite! (in '/home/juanpalms/Desktop/MCD/Bayesiana/PROYECTO/modelacion-bayesiana-proyecto-final-bayes-radioactivo/modelos/model_parcialmente_agrupado.stan', line 12, column 7 to column 64)\n",
      "\tException: offset_multiplier_constrain: multiplier is 0, but must be positive finite! (in '/home/juanpalms/Desktop/MCD/Bayesiana/PROYECTO/modelacion-bayesiana-proyecto-final-bayes-radioactivo/modelos/model_parcialmente_agrupado.stan', line 12, column 7 to column 64)\n",
      "\tException: offset_multiplier_constrain: multiplier is 0, but must be positive finite! (in '/home/juanpalms/Desktop/MCD/Bayesiana/PROYECTO/modelacion-bayesiana-proyecto-final-bayes-radioactivo/modelos/model_parcialmente_agrupado.stan', line 12, column 7 to column 64)\n",
      "\tException: offset_multiplier_constrain: multiplier is 0, but must be positive finite! (in '/home/juanpalms/Desktop/MCD/Bayesiana/PROYECTO/modelacion-bayesiana-proyecto-final-bayes-radioactivo/modelos/model_parcialmente_agrupado.stan', line 12, column 7 to column 64)\n",
      "Exception: offset_multiplier_constrain: multiplier is 0, but must be positive finite! (in '/home/juanpalms/Desktop/MCD/Bayesiana/PROYECTO/modelacion-bayesiana-proyecto-final-bayes-radioactivo/modelos/model_parcialmente_agrupado.stan', line 12, column 7 to column 64)\n",
      "Exception: offset_multiplier_constrain: multiplier is 0, but must be positive finite! (in '/home/juanpalms/Desktop/MCD/Bayesiana/PROYECTO/modelacion-bayesiana-proyecto-final-bayes-radioactivo/modelos/model_parcialmente_agrupado.stan', line 12, column 7 to column 64)\n",
      "\tException: offset_multiplier_constrain: multiplier is 0, but must be positive finite! (in '/home/juanpalms/Desktop/MCD/Bayesiana/PROYECTO/modelacion-bayesiana-proyecto-final-bayes-radioactivo/modelos/model_parcialmente_agrupado.stan', line 12, column 7 to column 64)\n",
      "\tException: offset_multiplier_constrain: multiplier is 0, but must be positive finite! (in '/home/juanpalms/Desktop/MCD/Bayesiana/PROYECTO/modelacion-bayesiana-proyecto-final-bayes-radioactivo/modelos/model_parcialmente_agrupado.stan', line 12, column 7 to column 64)\n",
      "\tException: offset_multiplier_constrain: multiplier is 0, but must be positive finite! (in '/home/juanpalms/Desktop/MCD/Bayesiana/PROYECTO/modelacion-bayesiana-proyecto-final-bayes-radioactivo/modelos/model_parcialmente_agrupado.stan', line 12, column 7 to column 64)\n",
      "\tException: offset_multiplier_constrain: multiplier is 0, but must be positive finite! (in '/home/juanpalms/Desktop/MCD/Bayesiana/PROYECTO/modelacion-bayesiana-proyecto-final-bayes-radioactivo/modelos/model_parcialmente_agrupado.stan', line 12, column 7 to column 64)\n",
      "Exception: offset_multiplier_constrain: multiplier is inf, but must be positive finite! (in '/home/juanpalms/Desktop/MCD/Bayesiana/PROYECTO/modelacion-bayesiana-proyecto-final-bayes-radioactivo/modelos/model_parcialmente_agrupado.stan', line 12, column 7 to column 64)\n",
      "Consider re-running with show_console=True if the above output is unclear!\n"
     ]
    },
    {
     "data": {
      "text/plain": [
       "<ExecutionResult object at 7f75063e0050, execution_count=None error_before_exec=None error_in_exec=None info=<ExecutionInfo object at 7f7505f008d0, raw_cell=\"model_parcialmente_agrupado = CmdStanModel(stan_fi..\" store_history=False silent=False shell_futures=True cell_id=None> result=None>"
      ]
     },
     "execution_count": 35,
     "metadata": {},
     "output_type": "execute_result"
    }
   ],
   "source": [
    "%%log_run Modelo parcialmente agrupado (jerarquico solo con intercepto)\n",
    "model_parcialmente_agrupado = CmdStanModel(stan_file=os.path.join(config_f[\"models_directory\"], \"model_parcialmente_agrupado.stan\"))\n",
    "model_parcialmente_agrupado_fit = model_parcialmente_agrupado.sample(\n",
    "    data=radon_data, \n",
    "    show_progress=False, \n",
    "    chains=6,\n",
    "    iter_warmup= 1000,\n",
    "    iter_sampling=30000)"
   ]
  },
  {
   "cell_type": "markdown",
   "id": "55484d5c-c8fc-4241-a7fe-f61f8ebb17a0",
   "metadata": {},
   "source": [
    "### Analizando las cadenas"
   ]
  },
  {
   "cell_type": "code",
   "execution_count": 36,
   "id": "28a18b1a-e485-46fa-a065-e4a721d168b8",
   "metadata": {
    "tags": []
   },
   "outputs": [],
   "source": [
    "summary=model_parcialmente_agrupado_fit.summary().round(2)"
   ]
  },
  {
   "cell_type": "code",
   "execution_count": 38,
   "id": "9395bdd1-0261-4c6e-8063-8d89d321baff",
   "metadata": {
    "tags": []
   },
   "outputs": [
    {
     "data": {
      "text/plain": [
       "85"
      ]
     },
     "execution_count": 38,
     "metadata": {},
     "output_type": "execute_result"
    }
   ],
   "source": [
    "(summary[1:86][\"R_hat\"]>=1).count()"
   ]
  },
  {
   "cell_type": "code",
   "execution_count": 40,
   "id": "86402286-8ebb-4859-801f-36664633bba1",
   "metadata": {
    "tags": []
   },
   "outputs": [],
   "source": [
    "parametros=model_parcialmente_agrupado_fit.draws_pd(vars=['alpha', 'beta', 'sigma'])"
   ]
  },
  {
   "cell_type": "code",
   "execution_count": 41,
   "id": "fdf0ce14-d19a-46aa-870d-22003df48253",
   "metadata": {
    "tags": []
   },
   "outputs": [
    {
     "data": {
      "text/html": [
       "<div>\n",
       "<style scoped>\n",
       "    .dataframe tbody tr th:only-of-type {\n",
       "        vertical-align: middle;\n",
       "    }\n",
       "\n",
       "    .dataframe tbody tr th {\n",
       "        vertical-align: top;\n",
       "    }\n",
       "\n",
       "    .dataframe thead th {\n",
       "        text-align: right;\n",
       "    }\n",
       "</style>\n",
       "<table border=\"1\" class=\"dataframe\">\n",
       "  <thead>\n",
       "    <tr style=\"text-align: right;\">\n",
       "      <th></th>\n",
       "      <th>alpha[1]</th>\n",
       "      <th>alpha[2]</th>\n",
       "      <th>alpha[3]</th>\n",
       "      <th>alpha[4]</th>\n",
       "      <th>alpha[5]</th>\n",
       "      <th>alpha[6]</th>\n",
       "      <th>alpha[7]</th>\n",
       "      <th>alpha[8]</th>\n",
       "      <th>alpha[9]</th>\n",
       "      <th>alpha[10]</th>\n",
       "      <th>...</th>\n",
       "      <th>alpha[78]</th>\n",
       "      <th>alpha[79]</th>\n",
       "      <th>alpha[80]</th>\n",
       "      <th>alpha[81]</th>\n",
       "      <th>alpha[82]</th>\n",
       "      <th>alpha[83]</th>\n",
       "      <th>alpha[84]</th>\n",
       "      <th>alpha[85]</th>\n",
       "      <th>beta</th>\n",
       "      <th>sigma</th>\n",
       "    </tr>\n",
       "  </thead>\n",
       "  <tbody>\n",
       "    <tr>\n",
       "      <th>0</th>\n",
       "      <td>0.824548</td>\n",
       "      <td>0.820704</td>\n",
       "      <td>1.52162</td>\n",
       "      <td>1.36117</td>\n",
       "      <td>1.11932</td>\n",
       "      <td>1.543700</td>\n",
       "      <td>1.79375</td>\n",
       "      <td>1.66989</td>\n",
       "      <td>1.077750</td>\n",
       "      <td>1.59800</td>\n",
       "      <td>...</td>\n",
       "      <td>1.60659</td>\n",
       "      <td>1.277010</td>\n",
       "      <td>1.21058</td>\n",
       "      <td>2.52250</td>\n",
       "      <td>2.067340</td>\n",
       "      <td>1.51364</td>\n",
       "      <td>1.92950</td>\n",
       "      <td>1.669810</td>\n",
       "      <td>-0.773347</td>\n",
       "      <td>0.739571</td>\n",
       "    </tr>\n",
       "    <tr>\n",
       "      <th>1</th>\n",
       "      <td>1.431100</td>\n",
       "      <td>1.007030</td>\n",
       "      <td>1.18706</td>\n",
       "      <td>1.69966</td>\n",
       "      <td>1.49267</td>\n",
       "      <td>1.632950</td>\n",
       "      <td>1.82215</td>\n",
       "      <td>1.88965</td>\n",
       "      <td>1.253670</td>\n",
       "      <td>1.80236</td>\n",
       "      <td>...</td>\n",
       "      <td>1.32458</td>\n",
       "      <td>1.153310</td>\n",
       "      <td>1.42082</td>\n",
       "      <td>2.13578</td>\n",
       "      <td>1.091290</td>\n",
       "      <td>1.77000</td>\n",
       "      <td>1.57653</td>\n",
       "      <td>1.123410</td>\n",
       "      <td>-0.762985</td>\n",
       "      <td>0.770421</td>\n",
       "    </tr>\n",
       "    <tr>\n",
       "      <th>2</th>\n",
       "      <td>0.583700</td>\n",
       "      <td>0.867225</td>\n",
       "      <td>1.57354</td>\n",
       "      <td>1.42088</td>\n",
       "      <td>1.45303</td>\n",
       "      <td>1.562400</td>\n",
       "      <td>1.91190</td>\n",
       "      <td>1.48267</td>\n",
       "      <td>0.985453</td>\n",
       "      <td>1.16663</td>\n",
       "      <td>...</td>\n",
       "      <td>1.20061</td>\n",
       "      <td>0.984376</td>\n",
       "      <td>1.17838</td>\n",
       "      <td>1.88576</td>\n",
       "      <td>2.071060</td>\n",
       "      <td>1.45329</td>\n",
       "      <td>1.47220</td>\n",
       "      <td>1.493880</td>\n",
       "      <td>-0.610852</td>\n",
       "      <td>0.750177</td>\n",
       "    </tr>\n",
       "    <tr>\n",
       "      <th>3</th>\n",
       "      <td>1.502960</td>\n",
       "      <td>0.903858</td>\n",
       "      <td>1.16825</td>\n",
       "      <td>1.61730</td>\n",
       "      <td>1.52966</td>\n",
       "      <td>1.653470</td>\n",
       "      <td>1.58766</td>\n",
       "      <td>1.93964</td>\n",
       "      <td>0.786562</td>\n",
       "      <td>1.56386</td>\n",
       "      <td>...</td>\n",
       "      <td>1.49696</td>\n",
       "      <td>1.673510</td>\n",
       "      <td>1.17662</td>\n",
       "      <td>2.16985</td>\n",
       "      <td>1.721700</td>\n",
       "      <td>1.34943</td>\n",
       "      <td>1.29162</td>\n",
       "      <td>0.848085</td>\n",
       "      <td>-0.750055</td>\n",
       "      <td>0.763442</td>\n",
       "    </tr>\n",
       "    <tr>\n",
       "      <th>4</th>\n",
       "      <td>1.234680</td>\n",
       "      <td>1.008540</td>\n",
       "      <td>1.51091</td>\n",
       "      <td>1.54892</td>\n",
       "      <td>1.58615</td>\n",
       "      <td>1.470520</td>\n",
       "      <td>2.05129</td>\n",
       "      <td>1.70303</td>\n",
       "      <td>1.448980</td>\n",
       "      <td>1.60936</td>\n",
       "      <td>...</td>\n",
       "      <td>1.30624</td>\n",
       "      <td>0.589111</td>\n",
       "      <td>1.46450</td>\n",
       "      <td>1.43022</td>\n",
       "      <td>1.652670</td>\n",
       "      <td>1.71960</td>\n",
       "      <td>1.83429</td>\n",
       "      <td>1.614060</td>\n",
       "      <td>-0.681793</td>\n",
       "      <td>0.776874</td>\n",
       "    </tr>\n",
       "    <tr>\n",
       "      <th>...</th>\n",
       "      <td>...</td>\n",
       "      <td>...</td>\n",
       "      <td>...</td>\n",
       "      <td>...</td>\n",
       "      <td>...</td>\n",
       "      <td>...</td>\n",
       "      <td>...</td>\n",
       "      <td>...</td>\n",
       "      <td>...</td>\n",
       "      <td>...</td>\n",
       "      <td>...</td>\n",
       "      <td>...</td>\n",
       "      <td>...</td>\n",
       "      <td>...</td>\n",
       "      <td>...</td>\n",
       "      <td>...</td>\n",
       "      <td>...</td>\n",
       "      <td>...</td>\n",
       "      <td>...</td>\n",
       "      <td>...</td>\n",
       "      <td>...</td>\n",
       "    </tr>\n",
       "    <tr>\n",
       "      <th>179995</th>\n",
       "      <td>1.275190</td>\n",
       "      <td>0.861656</td>\n",
       "      <td>1.50406</td>\n",
       "      <td>1.33504</td>\n",
       "      <td>1.56439</td>\n",
       "      <td>0.897331</td>\n",
       "      <td>2.13607</td>\n",
       "      <td>1.24408</td>\n",
       "      <td>1.184670</td>\n",
       "      <td>1.46852</td>\n",
       "      <td>...</td>\n",
       "      <td>1.28949</td>\n",
       "      <td>1.212720</td>\n",
       "      <td>1.29235</td>\n",
       "      <td>1.69670</td>\n",
       "      <td>1.030310</td>\n",
       "      <td>1.84079</td>\n",
       "      <td>1.60674</td>\n",
       "      <td>1.552700</td>\n",
       "      <td>-0.752114</td>\n",
       "      <td>0.748644</td>\n",
       "    </tr>\n",
       "    <tr>\n",
       "      <th>179996</th>\n",
       "      <td>1.227830</td>\n",
       "      <td>0.986632</td>\n",
       "      <td>1.49844</td>\n",
       "      <td>1.87365</td>\n",
       "      <td>1.36444</td>\n",
       "      <td>1.834620</td>\n",
       "      <td>1.56906</td>\n",
       "      <td>2.15823</td>\n",
       "      <td>1.191900</td>\n",
       "      <td>1.58275</td>\n",
       "      <td>...</td>\n",
       "      <td>1.62068</td>\n",
       "      <td>1.157830</td>\n",
       "      <td>1.41075</td>\n",
       "      <td>2.14098</td>\n",
       "      <td>2.419500</td>\n",
       "      <td>1.27429</td>\n",
       "      <td>1.52753</td>\n",
       "      <td>1.274930</td>\n",
       "      <td>-0.696807</td>\n",
       "      <td>0.785801</td>\n",
       "    </tr>\n",
       "    <tr>\n",
       "      <th>179997</th>\n",
       "      <td>1.307780</td>\n",
       "      <td>0.907644</td>\n",
       "      <td>1.60783</td>\n",
       "      <td>1.42610</td>\n",
       "      <td>1.63932</td>\n",
       "      <td>1.397900</td>\n",
       "      <td>2.23262</td>\n",
       "      <td>1.34280</td>\n",
       "      <td>1.147320</td>\n",
       "      <td>1.56246</td>\n",
       "      <td>...</td>\n",
       "      <td>1.28212</td>\n",
       "      <td>1.055980</td>\n",
       "      <td>1.35717</td>\n",
       "      <td>1.84368</td>\n",
       "      <td>1.002270</td>\n",
       "      <td>1.90277</td>\n",
       "      <td>1.73249</td>\n",
       "      <td>1.551700</td>\n",
       "      <td>-0.686128</td>\n",
       "      <td>0.747674</td>\n",
       "    </tr>\n",
       "    <tr>\n",
       "      <th>179998</th>\n",
       "      <td>0.877886</td>\n",
       "      <td>0.828095</td>\n",
       "      <td>1.45717</td>\n",
       "      <td>1.63561</td>\n",
       "      <td>1.15313</td>\n",
       "      <td>1.766390</td>\n",
       "      <td>1.73354</td>\n",
       "      <td>2.16910</td>\n",
       "      <td>0.986915</td>\n",
       "      <td>1.51427</td>\n",
       "      <td>...</td>\n",
       "      <td>1.78552</td>\n",
       "      <td>1.069530</td>\n",
       "      <td>1.40314</td>\n",
       "      <td>2.05324</td>\n",
       "      <td>2.476450</td>\n",
       "      <td>1.55703</td>\n",
       "      <td>1.69252</td>\n",
       "      <td>1.205420</td>\n",
       "      <td>-0.681344</td>\n",
       "      <td>0.781389</td>\n",
       "    </tr>\n",
       "    <tr>\n",
       "      <th>179999</th>\n",
       "      <td>1.289000</td>\n",
       "      <td>0.958847</td>\n",
       "      <td>1.71942</td>\n",
       "      <td>1.48415</td>\n",
       "      <td>1.72627</td>\n",
       "      <td>1.193010</td>\n",
       "      <td>2.10554</td>\n",
       "      <td>1.55768</td>\n",
       "      <td>1.195240</td>\n",
       "      <td>1.49553</td>\n",
       "      <td>...</td>\n",
       "      <td>1.21368</td>\n",
       "      <td>0.932852</td>\n",
       "      <td>1.41530</td>\n",
       "      <td>2.01706</td>\n",
       "      <td>0.747637</td>\n",
       "      <td>1.61126</td>\n",
       "      <td>1.58798</td>\n",
       "      <td>1.513000</td>\n",
       "      <td>-0.621885</td>\n",
       "      <td>0.739466</td>\n",
       "    </tr>\n",
       "  </tbody>\n",
       "</table>\n",
       "<p>180000 rows × 87 columns</p>\n",
       "</div>"
      ],
      "text/plain": [
       "        alpha[1]  alpha[2]  alpha[3]  alpha[4]  alpha[5]  alpha[6]  alpha[7]   \n",
       "0       0.824548  0.820704   1.52162   1.36117   1.11932  1.543700   1.79375  \\\n",
       "1       1.431100  1.007030   1.18706   1.69966   1.49267  1.632950   1.82215   \n",
       "2       0.583700  0.867225   1.57354   1.42088   1.45303  1.562400   1.91190   \n",
       "3       1.502960  0.903858   1.16825   1.61730   1.52966  1.653470   1.58766   \n",
       "4       1.234680  1.008540   1.51091   1.54892   1.58615  1.470520   2.05129   \n",
       "...          ...       ...       ...       ...       ...       ...       ...   \n",
       "179995  1.275190  0.861656   1.50406   1.33504   1.56439  0.897331   2.13607   \n",
       "179996  1.227830  0.986632   1.49844   1.87365   1.36444  1.834620   1.56906   \n",
       "179997  1.307780  0.907644   1.60783   1.42610   1.63932  1.397900   2.23262   \n",
       "179998  0.877886  0.828095   1.45717   1.63561   1.15313  1.766390   1.73354   \n",
       "179999  1.289000  0.958847   1.71942   1.48415   1.72627  1.193010   2.10554   \n",
       "\n",
       "        alpha[8]  alpha[9]  alpha[10]  ...  alpha[78]  alpha[79]  alpha[80]   \n",
       "0        1.66989  1.077750    1.59800  ...    1.60659   1.277010    1.21058  \\\n",
       "1        1.88965  1.253670    1.80236  ...    1.32458   1.153310    1.42082   \n",
       "2        1.48267  0.985453    1.16663  ...    1.20061   0.984376    1.17838   \n",
       "3        1.93964  0.786562    1.56386  ...    1.49696   1.673510    1.17662   \n",
       "4        1.70303  1.448980    1.60936  ...    1.30624   0.589111    1.46450   \n",
       "...          ...       ...        ...  ...        ...        ...        ...   \n",
       "179995   1.24408  1.184670    1.46852  ...    1.28949   1.212720    1.29235   \n",
       "179996   2.15823  1.191900    1.58275  ...    1.62068   1.157830    1.41075   \n",
       "179997   1.34280  1.147320    1.56246  ...    1.28212   1.055980    1.35717   \n",
       "179998   2.16910  0.986915    1.51427  ...    1.78552   1.069530    1.40314   \n",
       "179999   1.55768  1.195240    1.49553  ...    1.21368   0.932852    1.41530   \n",
       "\n",
       "        alpha[81]  alpha[82]  alpha[83]  alpha[84]  alpha[85]      beta   \n",
       "0         2.52250   2.067340    1.51364    1.92950   1.669810 -0.773347  \\\n",
       "1         2.13578   1.091290    1.77000    1.57653   1.123410 -0.762985   \n",
       "2         1.88576   2.071060    1.45329    1.47220   1.493880 -0.610852   \n",
       "3         2.16985   1.721700    1.34943    1.29162   0.848085 -0.750055   \n",
       "4         1.43022   1.652670    1.71960    1.83429   1.614060 -0.681793   \n",
       "...           ...        ...        ...        ...        ...       ...   \n",
       "179995    1.69670   1.030310    1.84079    1.60674   1.552700 -0.752114   \n",
       "179996    2.14098   2.419500    1.27429    1.52753   1.274930 -0.696807   \n",
       "179997    1.84368   1.002270    1.90277    1.73249   1.551700 -0.686128   \n",
       "179998    2.05324   2.476450    1.55703    1.69252   1.205420 -0.681344   \n",
       "179999    2.01706   0.747637    1.61126    1.58798   1.513000 -0.621885   \n",
       "\n",
       "           sigma  \n",
       "0       0.739571  \n",
       "1       0.770421  \n",
       "2       0.750177  \n",
       "3       0.763442  \n",
       "4       0.776874  \n",
       "...          ...  \n",
       "179995  0.748644  \n",
       "179996  0.785801  \n",
       "179997  0.747674  \n",
       "179998  0.781389  \n",
       "179999  0.739466  \n",
       "\n",
       "[180000 rows x 87 columns]"
      ]
     },
     "execution_count": 41,
     "metadata": {},
     "output_type": "execute_result"
    }
   ],
   "source": [
    "parametros"
   ]
  },
  {
   "cell_type": "code",
   "execution_count": 42,
   "id": "ee530811-8d8c-40f2-9601-225e9c3de80f",
   "metadata": {
    "tags": []
   },
   "outputs": [
    {
     "data": {
      "text/html": [
       "<div>\n",
       "<style scoped>\n",
       "    .dataframe tbody tr th:only-of-type {\n",
       "        vertical-align: middle;\n",
       "    }\n",
       "\n",
       "    .dataframe tbody tr th {\n",
       "        vertical-align: top;\n",
       "    }\n",
       "\n",
       "    .dataframe thead th {\n",
       "        text-align: right;\n",
       "    }\n",
       "</style>\n",
       "<table border=\"1\" class=\"dataframe\">\n",
       "  <thead>\n",
       "    <tr style=\"text-align: right;\">\n",
       "      <th></th>\n",
       "      <th>Mean</th>\n",
       "      <th>MCSE</th>\n",
       "      <th>StdDev</th>\n",
       "      <th>5%</th>\n",
       "      <th>50%</th>\n",
       "      <th>95%</th>\n",
       "      <th>N_Eff</th>\n",
       "      <th>N_Eff/s</th>\n",
       "      <th>R_hat</th>\n",
       "    </tr>\n",
       "  </thead>\n",
       "  <tbody>\n",
       "    <tr>\n",
       "      <th>lp__</th>\n",
       "      <td>-258.98</td>\n",
       "      <td>0.04</td>\n",
       "      <td>9.23</td>\n",
       "      <td>-274.69</td>\n",
       "      <td>-258.67</td>\n",
       "      <td>-244.31</td>\n",
       "      <td>42269.9</td>\n",
       "      <td>167.04</td>\n",
       "      <td>1.0</td>\n",
       "    </tr>\n",
       "    <tr>\n",
       "      <th>mu_alpha</th>\n",
       "      <td>1.47</td>\n",
       "      <td>0.00</td>\n",
       "      <td>0.05</td>\n",
       "      <td>1.38</td>\n",
       "      <td>1.47</td>\n",
       "      <td>1.56</td>\n",
       "      <td>107782.0</td>\n",
       "      <td>425.94</td>\n",
       "      <td>1.0</td>\n",
       "    </tr>\n",
       "    <tr>\n",
       "      <th>sigma_alpha</th>\n",
       "      <td>0.34</td>\n",
       "      <td>0.00</td>\n",
       "      <td>0.05</td>\n",
       "      <td>0.27</td>\n",
       "      <td>0.34</td>\n",
       "      <td>0.43</td>\n",
       "      <td>71985.5</td>\n",
       "      <td>284.47</td>\n",
       "      <td>1.0</td>\n",
       "    </tr>\n",
       "    <tr>\n",
       "      <th>alpha[1]</th>\n",
       "      <td>1.19</td>\n",
       "      <td>0.00</td>\n",
       "      <td>0.26</td>\n",
       "      <td>0.75</td>\n",
       "      <td>1.19</td>\n",
       "      <td>1.61</td>\n",
       "      <td>362977.0</td>\n",
       "      <td>1434.42</td>\n",
       "      <td>1.0</td>\n",
       "    </tr>\n",
       "    <tr>\n",
       "      <th>alpha[2]</th>\n",
       "      <td>0.93</td>\n",
       "      <td>0.00</td>\n",
       "      <td>0.10</td>\n",
       "      <td>0.76</td>\n",
       "      <td>0.93</td>\n",
       "      <td>1.10</td>\n",
       "      <td>288643.0</td>\n",
       "      <td>1140.67</td>\n",
       "      <td>1.0</td>\n",
       "    </tr>\n",
       "    <tr>\n",
       "      <th>...</th>\n",
       "      <td>...</td>\n",
       "      <td>...</td>\n",
       "      <td>...</td>\n",
       "      <td>...</td>\n",
       "      <td>...</td>\n",
       "      <td>...</td>\n",
       "      <td>...</td>\n",
       "      <td>...</td>\n",
       "      <td>...</td>\n",
       "    </tr>\n",
       "    <tr>\n",
       "      <th>y_rep[923]</th>\n",
       "      <td>1.59</td>\n",
       "      <td>0.00</td>\n",
       "      <td>0.79</td>\n",
       "      <td>0.30</td>\n",
       "      <td>1.59</td>\n",
       "      <td>2.89</td>\n",
       "      <td>186857.0</td>\n",
       "      <td>738.42</td>\n",
       "      <td>1.0</td>\n",
       "    </tr>\n",
       "    <tr>\n",
       "      <th>y_rep[924]</th>\n",
       "      <td>1.59</td>\n",
       "      <td>0.00</td>\n",
       "      <td>0.79</td>\n",
       "      <td>0.30</td>\n",
       "      <td>1.60</td>\n",
       "      <td>2.88</td>\n",
       "      <td>185266.0</td>\n",
       "      <td>732.14</td>\n",
       "      <td>1.0</td>\n",
       "    </tr>\n",
       "    <tr>\n",
       "      <th>y_rep[925]</th>\n",
       "      <td>1.59</td>\n",
       "      <td>0.00</td>\n",
       "      <td>0.79</td>\n",
       "      <td>0.30</td>\n",
       "      <td>1.59</td>\n",
       "      <td>2.89</td>\n",
       "      <td>184664.0</td>\n",
       "      <td>729.76</td>\n",
       "      <td>1.0</td>\n",
       "    </tr>\n",
       "    <tr>\n",
       "      <th>y_rep[926]</th>\n",
       "      <td>1.39</td>\n",
       "      <td>0.00</td>\n",
       "      <td>0.82</td>\n",
       "      <td>0.04</td>\n",
       "      <td>1.39</td>\n",
       "      <td>2.74</td>\n",
       "      <td>189013.0</td>\n",
       "      <td>746.94</td>\n",
       "      <td>1.0</td>\n",
       "    </tr>\n",
       "    <tr>\n",
       "      <th>y_rep[927]</th>\n",
       "      <td>1.39</td>\n",
       "      <td>0.00</td>\n",
       "      <td>0.82</td>\n",
       "      <td>0.04</td>\n",
       "      <td>1.39</td>\n",
       "      <td>2.73</td>\n",
       "      <td>193845.0</td>\n",
       "      <td>766.04</td>\n",
       "      <td>1.0</td>\n",
       "    </tr>\n",
       "  </tbody>\n",
       "</table>\n",
       "<p>1017 rows × 9 columns</p>\n",
       "</div>"
      ],
      "text/plain": [
       "               Mean  MCSE  StdDev      5%     50%     95%     N_Eff  N_Eff/s   \n",
       "lp__        -258.98  0.04    9.23 -274.69 -258.67 -244.31   42269.9   167.04  \\\n",
       "mu_alpha       1.47  0.00    0.05    1.38    1.47    1.56  107782.0   425.94   \n",
       "sigma_alpha    0.34  0.00    0.05    0.27    0.34    0.43   71985.5   284.47   \n",
       "alpha[1]       1.19  0.00    0.26    0.75    1.19    1.61  362977.0  1434.42   \n",
       "alpha[2]       0.93  0.00    0.10    0.76    0.93    1.10  288643.0  1140.67   \n",
       "...             ...   ...     ...     ...     ...     ...       ...      ...   \n",
       "y_rep[923]     1.59  0.00    0.79    0.30    1.59    2.89  186857.0   738.42   \n",
       "y_rep[924]     1.59  0.00    0.79    0.30    1.60    2.88  185266.0   732.14   \n",
       "y_rep[925]     1.59  0.00    0.79    0.30    1.59    2.89  184664.0   729.76   \n",
       "y_rep[926]     1.39  0.00    0.82    0.04    1.39    2.74  189013.0   746.94   \n",
       "y_rep[927]     1.39  0.00    0.82    0.04    1.39    2.73  193845.0   766.04   \n",
       "\n",
       "             R_hat  \n",
       "lp__           1.0  \n",
       "mu_alpha       1.0  \n",
       "sigma_alpha    1.0  \n",
       "alpha[1]       1.0  \n",
       "alpha[2]       1.0  \n",
       "...            ...  \n",
       "y_rep[923]     1.0  \n",
       "y_rep[924]     1.0  \n",
       "y_rep[925]     1.0  \n",
       "y_rep[926]     1.0  \n",
       "y_rep[927]     1.0  \n",
       "\n",
       "[1017 rows x 9 columns]"
      ]
     },
     "execution_count": 42,
     "metadata": {},
     "output_type": "execute_result"
    }
   ],
   "source": [
    "summary"
   ]
  },
  {
   "cell_type": "markdown",
   "id": "db80b9fe-89ef-4780-ae2f-e64cdb8e7eeb",
   "metadata": {
    "tags": []
   },
   "source": [
    "## 4 Modelo parcialmente agrupado: distintos interceptos y coeficientes por condado"
   ]
  },
  {
   "cell_type": "markdown",
   "id": "8d08f823-994d-4921-9ade-6a0eb7737c1b",
   "metadata": {},
   "source": [
    "Modelo parcialmente agrupado B"
   ]
  },
  {
   "cell_type": "markdown",
   "id": "c2ede921-ceb3-4380-a4b2-3f2a7fd7f53c",
   "metadata": {},
   "source": [
    "$ \\large log\\_radon_i  \\sim N( \\alpha_{j[i]} + \\beta_{j[i]} Piso_i  , \\sigma)$ <br>"
   ]
  },
  {
   "cell_type": "markdown",
   "id": "76295893-ea05-4e1a-ba85-c9813667ae3e",
   "metadata": {},
   "source": [
    "$\\large \\alpha_j \\sim N(\\mu_{\\alpha},\\sigma_{\\alpha})$ <br>\n",
    "$\\large \\mu_\\alpha \\sim N(\\mu,\\sigma)$ <br>\n",
    "$\\large \\sigma_\\alpha \\sim N(\\mu,\\sigma)$ <br>\n",
    "$\\large \\beta_j \\sim N(\\mu_\\beta,\\sigma_\\beta)$ <br>\n",
    "$\\large \\mu_\\beta \\sim N(\\mu,\\sigma)$ <br>\n",
    "$\\large \\sigma_\\beta \\sim N(\\mu,\\sigma)$ <br>\n",
    "$\\large \\sigma \\sim N(\\mu,\\sigma)$ <br>"
   ]
  },
  {
   "cell_type": "markdown",
   "id": "75c73ce3-7155-4115-bb5b-6a21fe6f0b79",
   "metadata": {},
   "source": [
    "$\\large j \\in \\{1,2....85\\}$"
   ]
  },
  {
   "cell_type": "code",
   "execution_count": 39,
   "id": "dae99c78-e88e-4656-928a-a1b76b09aefd",
   "metadata": {
    "tags": []
   },
   "outputs": [],
   "source": [
    "modelString=\"\"\"\n",
    "    data {\n",
    "  int<lower=1> N;  // observations\n",
    "  int<lower=1> J;  // counties\n",
    "  array[N] int<lower=1, upper=J> county;\n",
    "  vector[N] x;\n",
    "  vector[N] y;\n",
    "}\n",
    "parameters {\n",
    "  real mu_alpha;\n",
    "  real<lower=0> sigma_alpha;\n",
    "  vector<offset=mu_alpha, multiplier=sigma_alpha>[J] alpha;  // non-centered parameterization\n",
    "  real mu_beta;\n",
    "  real<lower=0> sigma_beta;\n",
    "  vector<offset=mu_beta, multiplier=sigma_beta>[J] beta; // non-centered parameterization\n",
    "  real<lower=0> sigma;\n",
    "}\n",
    "model {\n",
    "  y ~ normal(alpha[county] + beta[county] .* x, sigma);\n",
    "  alpha ~ normal(mu_alpha, sigma_alpha); // partial-pooling\n",
    "  beta ~ normal(mu_beta, sigma_beta); // partial-pooling\n",
    "  mu_alpha ~ normal(0, 10);\n",
    "  sigma_alpha ~ normal(0, 10);\n",
    "  mu_beta ~ normal(0, 10);\n",
    "  sigma_beta ~ normal(0, 10);\n",
    "  sigma ~ normal(0, 10);\n",
    "}\n",
    "generated quantities {\n",
    "  array[N] real y_rep;\n",
    "  \n",
    "  for (i in 1:N) {\n",
    "    y_rep[i] = normal_rng(alpha[county[i]] + beta[county[i]] * x[i], sigma);\n",
    "  }\n",
    "}\n",
    "\n",
    "\n",
    "\"\"\""
   ]
  },
  {
   "cell_type": "code",
   "execution_count": 40,
   "id": "b699b087-c4f9-4e28-b5ee-6682e4ab8f3e",
   "metadata": {
    "tags": []
   },
   "outputs": [],
   "source": [
    "# Creo el archivo de Stan\n",
    "modelo_parcialmente_agrupadoB = os.path.join(config_f[\"models_directory\"],\"modelo_parcialmente_agrupadoB.stan\")\n",
    "with open(modelo_parcialmente_agrupadoB, 'w') as f:\n",
    "    f.write(modelString)"
   ]
  },
  {
   "cell_type": "code",
   "execution_count": 43,
   "id": "de69189d-9fc7-46e5-8392-86bc593a0618",
   "metadata": {
    "tags": []
   },
   "outputs": [
    {
     "name": "stderr",
     "output_type": "stream",
     "text": [
      "23:04:45 - cmdstanpy - INFO - CmdStan start processing\n",
      "23:04:45 - cmdstanpy - INFO - Chain [1] start processing\n",
      "23:04:45 - cmdstanpy - INFO - Chain [2] start processing\n",
      "23:04:45 - cmdstanpy - INFO - Chain [3] start processing\n",
      "23:04:45 - cmdstanpy - INFO - Chain [4] start processing\n",
      "23:05:22 - cmdstanpy - INFO - Chain [1] done processing\n",
      "23:05:25 - cmdstanpy - INFO - Chain [4] done processing\n",
      "23:05:36 - cmdstanpy - INFO - Chain [2] done processing\n",
      "23:05:38 - cmdstanpy - INFO - Chain [3] done processing\n",
      "23:05:38 - cmdstanpy - WARNING - Non-fatal error during sampling:\n",
      "Exception: offset_multiplier_constrain: multiplier is 0, but must be positive finite! (in '/home/juanpalms/Desktop/MCD/Bayesiana/PROYECTO/modelacion-bayesiana-proyecto-final-bayes-radioactivo/modelos/modelo_parcialmente_agrupadoB.stan', line 12, column 2 to column 59)\n",
      "Exception: offset_multiplier_constrain: multiplier is 0, but must be positive finite! (in '/home/juanpalms/Desktop/MCD/Bayesiana/PROYECTO/modelacion-bayesiana-proyecto-final-bayes-radioactivo/modelos/modelo_parcialmente_agrupadoB.stan', line 15, column 2 to column 56)\n",
      "\tException: offset_multiplier_constrain: multiplier is 0, but must be positive finite! (in '/home/juanpalms/Desktop/MCD/Bayesiana/PROYECTO/modelacion-bayesiana-proyecto-final-bayes-radioactivo/modelos/modelo_parcialmente_agrupadoB.stan', line 15, column 2 to column 56)\n",
      "\tException: offset_multiplier_constrain: multiplier is 0, but must be positive finite! (in '/home/juanpalms/Desktop/MCD/Bayesiana/PROYECTO/modelacion-bayesiana-proyecto-final-bayes-radioactivo/modelos/modelo_parcialmente_agrupadoB.stan', line 12, column 2 to column 59)\n",
      "\tException: offset_multiplier_constrain: multiplier is 0, but must be positive finite! (in '/home/juanpalms/Desktop/MCD/Bayesiana/PROYECTO/modelacion-bayesiana-proyecto-final-bayes-radioactivo/modelos/modelo_parcialmente_agrupadoB.stan', line 15, column 2 to column 56)\n",
      "Exception: offset_multiplier_constrain: multiplier is 0, but must be positive finite! (in '/home/juanpalms/Desktop/MCD/Bayesiana/PROYECTO/modelacion-bayesiana-proyecto-final-bayes-radioactivo/modelos/modelo_parcialmente_agrupadoB.stan', line 12, column 2 to column 59)\n",
      "\tException: offset_multiplier_constrain: multiplier is 0, but must be positive finite! (in '/home/juanpalms/Desktop/MCD/Bayesiana/PROYECTO/modelacion-bayesiana-proyecto-final-bayes-radioactivo/modelos/modelo_parcialmente_agrupadoB.stan', line 12, column 2 to column 59)\n",
      "\tException: offset_multiplier_constrain: multiplier is 0, but must be positive finite! (in '/home/juanpalms/Desktop/MCD/Bayesiana/PROYECTO/modelacion-bayesiana-proyecto-final-bayes-radioactivo/modelos/modelo_parcialmente_agrupadoB.stan', line 12, column 2 to column 59)\n",
      "\tException: offset_multiplier_constrain: multiplier is 0, but must be positive finite! (in '/home/juanpalms/Desktop/MCD/Bayesiana/PROYECTO/modelacion-bayesiana-proyecto-final-bayes-radioactivo/modelos/modelo_parcialmente_agrupadoB.stan', line 15, column 2 to column 56)\n",
      "\tException: offset_multiplier_constrain: multiplier is 0, but must be positive finite! (in '/home/juanpalms/Desktop/MCD/Bayesiana/PROYECTO/modelacion-bayesiana-proyecto-final-bayes-radioactivo/modelos/modelo_parcialmente_agrupadoB.stan', line 15, column 2 to column 56)\n",
      "\tException: offset_multiplier_constrain: multiplier is 0, but must be positive finite! (in '/home/juanpalms/Desktop/MCD/Bayesiana/PROYECTO/modelacion-bayesiana-proyecto-final-bayes-radioactivo/modelos/modelo_parcialmente_agrupadoB.stan', line 12, column 2 to column 59)\n",
      "\tException: offset_multiplier_constrain: multiplier is 0, but must be positive finite! (in '/home/juanpalms/Desktop/MCD/Bayesiana/PROYECTO/modelacion-bayesiana-proyecto-final-bayes-radioactivo/modelos/modelo_parcialmente_agrupadoB.stan', line 12, column 2 to column 59)\n",
      "\tException: offset_multiplier_constrain: multiplier is 0, but must be positive finite! (in '/home/juanpalms/Desktop/MCD/Bayesiana/PROYECTO/modelacion-bayesiana-proyecto-final-bayes-radioactivo/modelos/modelo_parcialmente_agrupadoB.stan', line 15, column 2 to column 56)\n",
      "Exception: offset_multiplier_constrain: multiplier is 0, but must be positive finite! (in '/home/juanpalms/Desktop/MCD/Bayesiana/PROYECTO/modelacion-bayesiana-proyecto-final-bayes-radioactivo/modelos/modelo_parcialmente_agrupadoB.stan', line 12, column 2 to column 59)\n",
      "Consider re-running with show_console=True if the above output is unclear!\n"
     ]
    },
    {
     "data": {
      "text/plain": [
       "<ExecutionResult object at 7f7506422150, execution_count=None error_before_exec=None error_in_exec=None info=<ExecutionInfo object at 7f7506422190, raw_cell=\"modelo_parcialmente_agrupadoB= CmdStanModel(stan_f..\" store_history=False silent=False shell_futures=True cell_id=None> result=None>"
      ]
     },
     "execution_count": 43,
     "metadata": {},
     "output_type": "execute_result"
    }
   ],
   "source": [
    "%%log_run Modelo parcialmente agrupado B (jerarquico intercepto y variable explicativa)\n",
    "modelo_parcialmente_agrupadoB= CmdStanModel(stan_file=os.path.join(config_f[\"models_directory\"], \"modelo_parcialmente_agrupadoB.stan\"))\n",
    "modelo_parcialmente_agrupadoB_fit = modelo_parcialmente_agrupadoB.sample(\n",
    "    data=radon_data, \n",
    "    show_progress=False, \n",
    "    chains=4,\n",
    "    iter_warmup= 1000,\n",
    "    iter_sampling=30000)"
   ]
  },
  {
   "cell_type": "code",
   "execution_count": 47,
   "id": "c901fdd7-f478-43ef-8b34-23e0fc39d615",
   "metadata": {
    "tags": []
   },
   "outputs": [],
   "source": [
    "summary=modelo_parcialmente_agrupadoB_fit.summary().round(2)"
   ]
  },
  {
   "cell_type": "code",
   "execution_count": 48,
   "id": "0f84c968-1fd6-44d4-b850-5c5d50b56791",
   "metadata": {
    "tags": []
   },
   "outputs": [
    {
     "data": {
      "text/html": [
       "<div>\n",
       "<style scoped>\n",
       "    .dataframe tbody tr th:only-of-type {\n",
       "        vertical-align: middle;\n",
       "    }\n",
       "\n",
       "    .dataframe tbody tr th {\n",
       "        vertical-align: top;\n",
       "    }\n",
       "\n",
       "    .dataframe thead th {\n",
       "        text-align: right;\n",
       "    }\n",
       "</style>\n",
       "<table border=\"1\" class=\"dataframe\">\n",
       "  <thead>\n",
       "    <tr style=\"text-align: right;\">\n",
       "      <th></th>\n",
       "      <th>Mean</th>\n",
       "      <th>MCSE</th>\n",
       "      <th>StdDev</th>\n",
       "      <th>5%</th>\n",
       "      <th>50%</th>\n",
       "      <th>95%</th>\n",
       "      <th>N_Eff</th>\n",
       "      <th>N_Eff/s</th>\n",
       "      <th>R_hat</th>\n",
       "    </tr>\n",
       "  </thead>\n",
       "  <tbody>\n",
       "    <tr>\n",
       "      <th>lp__</th>\n",
       "      <td>-294.68</td>\n",
       "      <td>0.14</td>\n",
       "      <td>12.92</td>\n",
       "      <td>-316.36</td>\n",
       "      <td>-294.44</td>\n",
       "      <td>-273.75</td>\n",
       "      <td>8234.1</td>\n",
       "      <td>135.55</td>\n",
       "      <td>1.0</td>\n",
       "    </tr>\n",
       "    <tr>\n",
       "      <th>mu_alpha</th>\n",
       "      <td>1.47</td>\n",
       "      <td>0.00</td>\n",
       "      <td>0.05</td>\n",
       "      <td>1.38</td>\n",
       "      <td>1.47</td>\n",
       "      <td>1.55</td>\n",
       "      <td>15335.5</td>\n",
       "      <td>252.46</td>\n",
       "      <td>1.0</td>\n",
       "    </tr>\n",
       "    <tr>\n",
       "      <th>sigma_alpha</th>\n",
       "      <td>0.35</td>\n",
       "      <td>0.00</td>\n",
       "      <td>0.05</td>\n",
       "      <td>0.27</td>\n",
       "      <td>0.34</td>\n",
       "      <td>0.43</td>\n",
       "      <td>13981.3</td>\n",
       "      <td>230.16</td>\n",
       "      <td>1.0</td>\n",
       "    </tr>\n",
       "    <tr>\n",
       "      <th>alpha[1]</th>\n",
       "      <td>1.18</td>\n",
       "      <td>0.00</td>\n",
       "      <td>0.26</td>\n",
       "      <td>0.74</td>\n",
       "      <td>1.18</td>\n",
       "      <td>1.60</td>\n",
       "      <td>51896.0</td>\n",
       "      <td>854.32</td>\n",
       "      <td>1.0</td>\n",
       "    </tr>\n",
       "    <tr>\n",
       "      <th>alpha[2]</th>\n",
       "      <td>0.93</td>\n",
       "      <td>0.00</td>\n",
       "      <td>0.10</td>\n",
       "      <td>0.77</td>\n",
       "      <td>0.93</td>\n",
       "      <td>1.10</td>\n",
       "      <td>64514.5</td>\n",
       "      <td>1062.05</td>\n",
       "      <td>1.0</td>\n",
       "    </tr>\n",
       "    <tr>\n",
       "      <th>...</th>\n",
       "      <td>...</td>\n",
       "      <td>...</td>\n",
       "      <td>...</td>\n",
       "      <td>...</td>\n",
       "      <td>...</td>\n",
       "      <td>...</td>\n",
       "      <td>...</td>\n",
       "      <td>...</td>\n",
       "      <td>...</td>\n",
       "    </tr>\n",
       "    <tr>\n",
       "      <th>y_rep[923]</th>\n",
       "      <td>1.60</td>\n",
       "      <td>0.00</td>\n",
       "      <td>0.78</td>\n",
       "      <td>0.32</td>\n",
       "      <td>1.60</td>\n",
       "      <td>2.88</td>\n",
       "      <td>40891.3</td>\n",
       "      <td>673.16</td>\n",
       "      <td>1.0</td>\n",
       "    </tr>\n",
       "    <tr>\n",
       "      <th>y_rep[924]</th>\n",
       "      <td>1.59</td>\n",
       "      <td>0.00</td>\n",
       "      <td>0.78</td>\n",
       "      <td>0.30</td>\n",
       "      <td>1.59</td>\n",
       "      <td>2.88</td>\n",
       "      <td>41205.2</td>\n",
       "      <td>678.33</td>\n",
       "      <td>1.0</td>\n",
       "    </tr>\n",
       "    <tr>\n",
       "      <th>y_rep[925]</th>\n",
       "      <td>1.59</td>\n",
       "      <td>0.00</td>\n",
       "      <td>0.78</td>\n",
       "      <td>0.30</td>\n",
       "      <td>1.60</td>\n",
       "      <td>2.88</td>\n",
       "      <td>39817.0</td>\n",
       "      <td>655.48</td>\n",
       "      <td>1.0</td>\n",
       "    </tr>\n",
       "    <tr>\n",
       "      <th>y_rep[926]</th>\n",
       "      <td>1.38</td>\n",
       "      <td>0.00</td>\n",
       "      <td>0.81</td>\n",
       "      <td>0.03</td>\n",
       "      <td>1.38</td>\n",
       "      <td>2.72</td>\n",
       "      <td>41009.0</td>\n",
       "      <td>675.10</td>\n",
       "      <td>1.0</td>\n",
       "    </tr>\n",
       "    <tr>\n",
       "      <th>y_rep[927]</th>\n",
       "      <td>1.39</td>\n",
       "      <td>0.00</td>\n",
       "      <td>0.81</td>\n",
       "      <td>0.07</td>\n",
       "      <td>1.39</td>\n",
       "      <td>2.72</td>\n",
       "      <td>41091.5</td>\n",
       "      <td>676.46</td>\n",
       "      <td>1.0</td>\n",
       "    </tr>\n",
       "  </tbody>\n",
       "</table>\n",
       "<p>1103 rows × 9 columns</p>\n",
       "</div>"
      ],
      "text/plain": [
       "               Mean  MCSE  StdDev      5%     50%     95%    N_Eff  N_Eff/s   \n",
       "lp__        -294.68  0.14   12.92 -316.36 -294.44 -273.75   8234.1   135.55  \\\n",
       "mu_alpha       1.47  0.00    0.05    1.38    1.47    1.55  15335.5   252.46   \n",
       "sigma_alpha    0.35  0.00    0.05    0.27    0.34    0.43  13981.3   230.16   \n",
       "alpha[1]       1.18  0.00    0.26    0.74    1.18    1.60  51896.0   854.32   \n",
       "alpha[2]       0.93  0.00    0.10    0.77    0.93    1.10  64514.5  1062.05   \n",
       "...             ...   ...     ...     ...     ...     ...      ...      ...   \n",
       "y_rep[923]     1.60  0.00    0.78    0.32    1.60    2.88  40891.3   673.16   \n",
       "y_rep[924]     1.59  0.00    0.78    0.30    1.59    2.88  41205.2   678.33   \n",
       "y_rep[925]     1.59  0.00    0.78    0.30    1.60    2.88  39817.0   655.48   \n",
       "y_rep[926]     1.38  0.00    0.81    0.03    1.38    2.72  41009.0   675.10   \n",
       "y_rep[927]     1.39  0.00    0.81    0.07    1.39    2.72  41091.5   676.46   \n",
       "\n",
       "             R_hat  \n",
       "lp__           1.0  \n",
       "mu_alpha       1.0  \n",
       "sigma_alpha    1.0  \n",
       "alpha[1]       1.0  \n",
       "alpha[2]       1.0  \n",
       "...            ...  \n",
       "y_rep[923]     1.0  \n",
       "y_rep[924]     1.0  \n",
       "y_rep[925]     1.0  \n",
       "y_rep[926]     1.0  \n",
       "y_rep[927]     1.0  \n",
       "\n",
       "[1103 rows x 9 columns]"
      ]
     },
     "execution_count": 48,
     "metadata": {},
     "output_type": "execute_result"
    }
   ],
   "source": [
    "summary"
   ]
  },
  {
   "cell_type": "code",
   "execution_count": 53,
   "id": "32f57971-c2a6-4aa8-928a-4989dbe2c0f5",
   "metadata": {
    "tags": []
   },
   "outputs": [
    {
     "name": "stdout",
     "output_type": "stream",
     "text": [
      "sample draws shape:  (40000, 175)\n"
     ]
    },
    {
     "data": {
      "text/html": [
       "<div>\n",
       "<style scoped>\n",
       "    .dataframe tbody tr th:only-of-type {\n",
       "        vertical-align: middle;\n",
       "    }\n",
       "\n",
       "    .dataframe tbody tr th {\n",
       "        vertical-align: top;\n",
       "    }\n",
       "\n",
       "    .dataframe thead th {\n",
       "        text-align: right;\n",
       "    }\n",
       "</style>\n",
       "<table border=\"1\" class=\"dataframe\">\n",
       "  <thead>\n",
       "    <tr style=\"text-align: right;\">\n",
       "      <th></th>\n",
       "      <th>alpha[1]</th>\n",
       "      <th>alpha[2]</th>\n",
       "      <th>alpha[3]</th>\n",
       "      <th>alpha[4]</th>\n",
       "      <th>alpha[5]</th>\n",
       "      <th>alpha[6]</th>\n",
       "      <th>alpha[7]</th>\n",
       "      <th>alpha[8]</th>\n",
       "      <th>alpha[9]</th>\n",
       "      <th>alpha[10]</th>\n",
       "      <th>...</th>\n",
       "      <th>beta[81]</th>\n",
       "      <th>beta[82]</th>\n",
       "      <th>beta[83]</th>\n",
       "      <th>beta[84]</th>\n",
       "      <th>beta[85]</th>\n",
       "      <th>sigma</th>\n",
       "      <th>mu_alpha</th>\n",
       "      <th>sigma_alpha</th>\n",
       "      <th>mu_beta</th>\n",
       "      <th>sigma_beta</th>\n",
       "    </tr>\n",
       "  </thead>\n",
       "  <tbody>\n",
       "    <tr>\n",
       "      <th>0</th>\n",
       "      <td>1.438060</td>\n",
       "      <td>1.162770</td>\n",
       "      <td>1.24724</td>\n",
       "      <td>1.46407</td>\n",
       "      <td>1.61009</td>\n",
       "      <td>1.30750</td>\n",
       "      <td>1.89312</td>\n",
       "      <td>1.58565</td>\n",
       "      <td>1.08868</td>\n",
       "      <td>1.46970</td>\n",
       "      <td>...</td>\n",
       "      <td>-0.581651</td>\n",
       "      <td>-0.926149</td>\n",
       "      <td>-1.28570</td>\n",
       "      <td>-0.788142</td>\n",
       "      <td>-1.200420</td>\n",
       "      <td>0.740894</td>\n",
       "      <td>1.44678</td>\n",
       "      <td>0.354049</td>\n",
       "      <td>-0.627878</td>\n",
       "      <td>0.439417</td>\n",
       "    </tr>\n",
       "    <tr>\n",
       "      <th>1</th>\n",
       "      <td>1.026870</td>\n",
       "      <td>0.709631</td>\n",
       "      <td>1.62438</td>\n",
       "      <td>1.71445</td>\n",
       "      <td>1.38339</td>\n",
       "      <td>1.89378</td>\n",
       "      <td>1.88952</td>\n",
       "      <td>1.38900</td>\n",
       "      <td>1.08031</td>\n",
       "      <td>1.59571</td>\n",
       "      <td>...</td>\n",
       "      <td>-0.709942</td>\n",
       "      <td>-0.966270</td>\n",
       "      <td>-1.20108</td>\n",
       "      <td>-1.083430</td>\n",
       "      <td>-0.307367</td>\n",
       "      <td>0.742750</td>\n",
       "      <td>1.52468</td>\n",
       "      <td>0.345192</td>\n",
       "      <td>-0.886530</td>\n",
       "      <td>0.289611</td>\n",
       "    </tr>\n",
       "    <tr>\n",
       "      <th>2</th>\n",
       "      <td>0.869253</td>\n",
       "      <td>1.042340</td>\n",
       "      <td>1.39504</td>\n",
       "      <td>1.75346</td>\n",
       "      <td>1.33042</td>\n",
       "      <td>1.55675</td>\n",
       "      <td>2.03649</td>\n",
       "      <td>1.72988</td>\n",
       "      <td>1.10132</td>\n",
       "      <td>1.47942</td>\n",
       "      <td>...</td>\n",
       "      <td>-0.377968</td>\n",
       "      <td>-0.626713</td>\n",
       "      <td>-1.01845</td>\n",
       "      <td>-0.492135</td>\n",
       "      <td>-0.733370</td>\n",
       "      <td>0.756102</td>\n",
       "      <td>1.50247</td>\n",
       "      <td>0.295745</td>\n",
       "      <td>-0.625666</td>\n",
       "      <td>0.286920</td>\n",
       "    </tr>\n",
       "  </tbody>\n",
       "</table>\n",
       "<p>3 rows × 175 columns</p>\n",
       "</div>"
      ],
      "text/plain": [
       "   alpha[1]  alpha[2]  alpha[3]  alpha[4]  alpha[5]  alpha[6]  alpha[7]   \n",
       "0  1.438060  1.162770   1.24724   1.46407   1.61009   1.30750   1.89312  \\\n",
       "1  1.026870  0.709631   1.62438   1.71445   1.38339   1.89378   1.88952   \n",
       "2  0.869253  1.042340   1.39504   1.75346   1.33042   1.55675   2.03649   \n",
       "\n",
       "   alpha[8]  alpha[9]  alpha[10]  ...  beta[81]  beta[82]  beta[83]  beta[84]   \n",
       "0   1.58565   1.08868    1.46970  ... -0.581651 -0.926149  -1.28570 -0.788142  \\\n",
       "1   1.38900   1.08031    1.59571  ... -0.709942 -0.966270  -1.20108 -1.083430   \n",
       "2   1.72988   1.10132    1.47942  ... -0.377968 -0.626713  -1.01845 -0.492135   \n",
       "\n",
       "   beta[85]     sigma  mu_alpha  sigma_alpha   mu_beta  sigma_beta  \n",
       "0 -1.200420  0.740894   1.44678     0.354049 -0.627878    0.439417  \n",
       "1 -0.307367  0.742750   1.52468     0.345192 -0.886530    0.289611  \n",
       "2 -0.733370  0.756102   1.50247     0.295745 -0.625666    0.286920  \n",
       "\n",
       "[3 rows x 175 columns]"
      ]
     },
     "execution_count": 53,
     "metadata": {},
     "output_type": "execute_result"
    }
   ],
   "source": [
    "modelo_parcialmente_agrupadoB_pd = modelo_parcialmente_agrupadoB_fit.draws_pd(vars=['alpha', 'beta', 'sigma', 'mu_alpha','sigma_alpha','mu_beta','sigma_beta'])\n",
    "print(f'sample draws shape:  {modelo_parcialmente_agrupadoB_pd.shape}')\n",
    "modelo_parcialmente_agrupadoB_pd.head(3)"
   ]
  },
  {
   "cell_type": "code",
   "execution_count": 55,
   "id": "a2aac675-6106-4c17-931b-1c9e999c1f1a",
   "metadata": {
    "tags": []
   },
   "outputs": [
    {
     "name": "stdout",
     "output_type": "stream",
     "text": [
      "sample draws shape:  (40000, 4)\n"
     ]
    },
    {
     "data": {
      "text/html": [
       "<div>\n",
       "<style scoped>\n",
       "    .dataframe tbody tr th:only-of-type {\n",
       "        vertical-align: middle;\n",
       "    }\n",
       "\n",
       "    .dataframe tbody tr th {\n",
       "        vertical-align: top;\n",
       "    }\n",
       "\n",
       "    .dataframe thead th {\n",
       "        text-align: right;\n",
       "    }\n",
       "</style>\n",
       "<table border=\"1\" class=\"dataframe\">\n",
       "  <thead>\n",
       "    <tr style=\"text-align: right;\">\n",
       "      <th></th>\n",
       "      <th>mu_alpha</th>\n",
       "      <th>sigma_alpha</th>\n",
       "      <th>mu_beta</th>\n",
       "      <th>sigma_beta</th>\n",
       "    </tr>\n",
       "  </thead>\n",
       "  <tbody>\n",
       "    <tr>\n",
       "      <th>0</th>\n",
       "      <td>1.44678</td>\n",
       "      <td>0.354049</td>\n",
       "      <td>-0.627878</td>\n",
       "      <td>0.439417</td>\n",
       "    </tr>\n",
       "    <tr>\n",
       "      <th>1</th>\n",
       "      <td>1.52468</td>\n",
       "      <td>0.345192</td>\n",
       "      <td>-0.886530</td>\n",
       "      <td>0.289611</td>\n",
       "    </tr>\n",
       "    <tr>\n",
       "      <th>2</th>\n",
       "      <td>1.50247</td>\n",
       "      <td>0.295745</td>\n",
       "      <td>-0.625666</td>\n",
       "      <td>0.286920</td>\n",
       "    </tr>\n",
       "  </tbody>\n",
       "</table>\n",
       "</div>"
      ],
      "text/plain": [
       "   mu_alpha  sigma_alpha   mu_beta  sigma_beta\n",
       "0   1.44678     0.354049 -0.627878    0.439417\n",
       "1   1.52468     0.345192 -0.886530    0.289611\n",
       "2   1.50247     0.295745 -0.625666    0.286920"
      ]
     },
     "execution_count": 55,
     "metadata": {},
     "output_type": "execute_result"
    }
   ],
   "source": [
    "modelo_parcialmente_agrupadoB_pd = modelo_parcialmente_agrupadoB_fit.draws_pd(vars=['mu_alpha', 'sigma_alpha', 'mu_beta','sigma_beta'])\n",
    "print(f'sample draws shape:  {modelo_parcialmente_agrupadoB_pd.shape}')\n",
    "modelo_parcialmente_agrupadoB_pd.head(3)"
   ]
  },
  {
   "cell_type": "markdown",
   "id": "c88e6d24-932b-46de-888d-b2618965263e",
   "metadata": {},
   "source": [
    "Media de beta (dist. jerarquica): -0.67 <br>\n",
    "Media de alpha (dist. jerarquica): 0.27"
   ]
  }
 ],
 "metadata": {
  "kernelspec": {
   "display_name": "Python 3 (ipykernel)",
   "language": "python",
   "name": "python3"
  },
  "language_info": {
   "codemirror_mode": {
    "name": "ipython",
    "version": 3
   },
   "file_extension": ".py",
   "mimetype": "text/x-python",
   "name": "python",
   "nbconvert_exporter": "python",
   "pygments_lexer": "ipython3",
   "version": "3.11.3"
  }
 },
 "nbformat": 4,
 "nbformat_minor": 5
}
